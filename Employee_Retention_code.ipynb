{
 "cells": [
  {
   "cell_type": "code",
   "execution_count": null,
   "metadata": {
    "id": "-pnA_3zmsg7N"
   },
   "outputs": [],
   "source": [
    "import numpy as np \n",
    "import pandas as pd \n",
    "import re #Importing regular expression operations\n",
    "import string\n",
    "from wordcloud import WordCloud # to represent the text data (visually) in which the size of each word indicates its frequency or importance.\n",
    "#from textblob import TextBlob #It performs different operations on textual data such as noun phrase extraction, sentiment analysis, classification, translation, etc.\n",
    "from sklearn.feature_extraction import text \n",
    "from collections import Counter\n",
    "import matplotlib.pyplot as plt\n",
    "import seaborn as sns\n",
    "import warnings\n",
    "import os\n",
    "warnings.filterwarnings(\"ignore\")"
   ]
  },
  {
   "cell_type": "code",
   "execution_count": null,
   "metadata": {
    "colab": {
     "base_uri": "https://localhost:8080/"
    },
    "id": "QHWVHsc6sg7U",
    "outputId": "1bd90dc6-f42d-48b4-e189-4db513f21ffb"
   },
   "outputs": [],
   "source": [
    "df=pd.read_csv(\"employee_reviews.csv\",encoding='latin-1',index_col=0)\n",
    "df.info()"
   ]
  },
  {
   "cell_type": "code",
   "execution_count": null,
   "metadata": {
    "colab": {
     "base_uri": "https://localhost:8080/",
     "height": 569
    },
    "id": "chHnf1Zksg7W",
    "outputId": "bb43f032-4189-4cb0-8626-32fea1f5bacc"
   },
   "outputs": [],
   "source": [
    "df.head(3)"
   ]
  },
  {
   "cell_type": "code",
   "execution_count": null,
   "metadata": {
    "colab": {
     "base_uri": "https://localhost:8080/"
    },
    "id": "AiGxZJshsg7X",
    "outputId": "4d32954f-ff71-4fe4-dcdc-0a014a43fac5"
   },
   "outputs": [],
   "source": [
    "print(df.shape)"
   ]
  },
  {
   "cell_type": "code",
   "execution_count": null,
   "metadata": {
    "colab": {
     "base_uri": "https://localhost:8080/"
    },
    "id": "dOdDSBCcsg7Y",
    "outputId": "e93833fd-7c64-410d-e324-dde509eb60d7"
   },
   "outputs": [],
   "source": [
    "print(df.isnull().sum())"
   ]
  },
  {
   "cell_type": "code",
   "execution_count": null,
   "metadata": {
    "colab": {
     "base_uri": "https://localhost:8080/",
     "height": 300
    },
    "id": "rnWM_ukxsg7Z",
    "outputId": "4ff4f54f-3c4e-4ff5-e8cf-5a681ed23334"
   },
   "outputs": [],
   "source": [
    "df.describe()"
   ]
  },
  {
   "cell_type": "markdown",
   "metadata": {
    "id": "x-BrqeaYsg7a"
   },
   "source": [
    "#### Segregating the data company wise to find their individual shape"
   ]
  },
  {
   "cell_type": "code",
   "execution_count": null,
   "metadata": {
    "colab": {
     "base_uri": "https://localhost:8080/"
    },
    "id": "1MzrI5lFsg7c",
    "outputId": "6d20ead8-f2e6-468a-d555-7f9cf0ee1dc5"
   },
   "outputs": [],
   "source": [
    "gog_df = df.apply(lambda row: row[df['company'].isin(['google'])])\n",
    "print(\"Shape of Google : \", gog_df.shape)\n",
    "\n",
    "amz_df = df.apply(lambda row: row[df['company'].isin(['amazon'])])\n",
    "print(\"Shape of Amazon : \",amz_df.shape)\n",
    "\n",
    "fb_df = df.apply(lambda row: row[df['company'].isin(['facebook'])])\n",
    "print(\"Shape of Facebook : \",fb_df.shape)\n",
    "\n",
    "net_df = df.apply(lambda row: row[df['company'].isin(['netflix'])])\n",
    "print(\"Shape of Netflix : \",net_df.shape)\n",
    "\n",
    "apl_df = df.apply(lambda row: row[df['company'].isin(['apple'])])\n",
    "print(\"Shape of Apple : \",apl_df.shape)\n",
    "\n",
    "mcf_df = df.apply(lambda row: row[df['company'].isin(['microsoft'])])\n",
    "print(\"Shape of Microsoft : \",mcf_df.shape)"
   ]
  },
  {
   "cell_type": "code",
   "execution_count": null,
   "metadata": {
    "colab": {
     "base_uri": "https://localhost:8080/"
    },
    "id": "vH13FhzSsg7d",
    "outputId": "7551a229-beb1-4873-fb7b-77cec06c6a92"
   },
   "outputs": [],
   "source": [
    "df['combined_reviews'] = df['summary']+'. '+df['advice-to-mgmt']+'. '+df['pros']+'. '+df['cons']\n",
    "df['combined_reviews']"
   ]
  },
  {
   "cell_type": "markdown",
   "metadata": {
    "id": "ANiire-nsg7e"
   },
   "source": [
    "### Creating a new dataframe which would contain only the needed column attributes."
   ]
  },
  {
   "cell_type": "code",
   "execution_count": null,
   "metadata": {
    "id": "zA5bXc-esg7f"
   },
   "outputs": [],
   "source": [
    "dtf = df[['company','job-title', 'combined_reviews',\n",
    "        'overall-ratings', 'work-balance-stars',\n",
    "       'culture-values-stars', 'carrer-opportunities-stars',\n",
    "       'comp-benefit-stars', 'senior-mangemnet-stars']]"
   ]
  },
  {
   "cell_type": "markdown",
   "metadata": {
    "id": "HJCG-pNosg7g"
   },
   "source": [
    "### Data Cleaning"
   ]
  },
  {
   "cell_type": "code",
   "execution_count": null,
   "metadata": {
    "id": "aJVn5DZ-sg7h"
   },
   "outputs": [],
   "source": [
    "ratings = dtf[['overall-ratings',\n",
    "       'work-balance-stars', 'culture-values-stars',\n",
    "       'carrer-opportunities-stars', 'comp-benefit-stars',\n",
    "       'senior-mangemnet-stars']]"
   ]
  },
  {
   "cell_type": "code",
   "execution_count": null,
   "metadata": {
    "colab": {
     "base_uri": "https://localhost:8080/"
    },
    "id": "7F9yDNtwsg7i",
    "outputId": "7a9b3a78-ea11-4cc7-d7c8-6404d2290c70"
   },
   "outputs": [],
   "source": [
    "ratings.dtypes"
   ]
  },
  {
   "cell_type": "code",
   "execution_count": null,
   "metadata": {
    "colab": {
     "base_uri": "https://localhost:8080/"
    },
    "id": "XpFcQDeDsg7j",
    "outputId": "d9107ca3-8a3c-4f51-93bc-9556cddbf327"
   },
   "outputs": [],
   "source": [
    "print(\"Unique Values in Overall rating column : \" , ratings['overall-ratings'].unique())\n",
    "print(\"Unique Values in work-balance-stars column : \", ratings['work-balance-stars'].unique())\n",
    "print(\"Unique Values in culture-values-stars column : \", ratings['culture-values-stars'].unique())\n",
    "print(\"Unique Values in carrer-opportunities-stars column : \", ratings['carrer-opportunities-stars'].unique())\n",
    "print(\"Unique Values in comp-benefit-stars column : \", ratings['comp-benefit-stars'].unique())\n",
    "print(\"Unique Values in senior-mangemnet-stars column : \", ratings['senior-mangemnet-stars'].unique())"
   ]
  },
  {
   "cell_type": "code",
   "execution_count": null,
   "metadata": {
    "id": "2tqMduumsg7k"
   },
   "outputs": [],
   "source": [
    "#step 1\n",
    "ratings['overall-ratings'] = ratings['overall-ratings'].replace('None', np.nan)\n",
    "ratings['overall-ratings'] = ratings['overall-ratings'].replace('Nan', np.nan)\n",
    "ratings['overall-ratings'] = ratings['overall-ratings'].replace('none', np.nan)\n",
    "\n",
    "ratings['work-balance-stars'] = ratings['work-balance-stars'].replace('None', np.nan)\n",
    "ratings['work-balance-stars'] = ratings['work-balance-stars'].replace('Nan', np.nan)\n",
    "ratings['work-balance-stars'] = ratings['work-balance-stars'].replace('none', np.nan)\n",
    "\n",
    "ratings['culture-values-stars'] = ratings['culture-values-stars'].replace('None', np.nan)\n",
    "ratings['culture-values-stars'] = ratings['culture-values-stars'].replace('Nan', np.nan)\n",
    "ratings['culture-values-stars'] = ratings['culture-values-stars'].replace('none', np.nan)\n",
    "\n",
    "ratings['carrer-opportunities-stars'] = ratings['carrer-opportunities-stars'].replace('None', np.nan)\n",
    "ratings['carrer-opportunities-stars'] = ratings['carrer-opportunities-stars'].replace('Nan', np.nan)\n",
    "ratings['carrer-opportunities-stars'] = ratings['carrer-opportunities-stars'].replace('none', np.nan)\n",
    "\n",
    "ratings['comp-benefit-stars'] = ratings['comp-benefit-stars'].replace('None', np.nan)\n",
    "ratings['comp-benefit-stars'] = ratings['comp-benefit-stars'].replace('Nan', np.nan)\n",
    "ratings['comp-benefit-stars'] = ratings['comp-benefit-stars'].replace('none', np.nan)\n",
    "\n",
    "ratings['senior-mangemnet-stars'] = ratings['senior-mangemnet-stars'].replace('None', np.nan)\n",
    "ratings['senior-mangemnet-stars'] = ratings['senior-mangemnet-stars'].replace('Nan', np.nan)\n",
    "ratings['senior-mangemnet-stars'] = ratings['senior-mangemnet-stars'].replace('none', np.nan)"
   ]
  },
  {
   "cell_type": "code",
   "execution_count": null,
   "metadata": {
    "id": "BDeUfOUJsg7o"
   },
   "outputs": [],
   "source": [
    "ratings['work-balance-stars'] = ratings['work-balance-stars'].astype(float)\n",
    "ratings['culture-values-stars'] = ratings['culture-values-stars'].astype(float)\n",
    "ratings['carrer-opportunities-stars'] = ratings['carrer-opportunities-stars'].astype(float)\n",
    "ratings['comp-benefit-stars'] = ratings['comp-benefit-stars'].astype(float)\n",
    "ratings['senior-mangemnet-stars'] = ratings['senior-mangemnet-stars'].astype(float)"
   ]
  },
  {
   "cell_type": "code",
   "execution_count": null,
   "metadata": {
    "id": "fsXGbJjNsg7q"
   },
   "outputs": [],
   "source": [
    "#step2\n",
    "ratings['overall-ratings']= ratings['overall-ratings'].fillna((ratings['overall-ratings'].mean(skipna=True)))\n",
    "ratings['work-balance-stars']= ratings['work-balance-stars'].fillna((ratings['work-balance-stars'].mean(skipna=True)))\n",
    "ratings['culture-values-stars']= ratings['culture-values-stars'].fillna((ratings['culture-values-stars'].mean(skipna=True)))\n",
    "ratings['carrer-opportunities-stars']= ratings['carrer-opportunities-stars'].fillna((ratings['carrer-opportunities-stars'].mean(skipna=True)))\n",
    "ratings['comp-benefit-stars']= ratings['comp-benefit-stars'].fillna((ratings['comp-benefit-stars'].mean(skipna=True)))\n",
    "ratings['senior-mangemnet-stars']= ratings['senior-mangemnet-stars'].fillna((ratings['senior-mangemnet-stars'].mean(skipna=True)))\n"
   ]
  },
  {
   "cell_type": "code",
   "execution_count": null,
   "metadata": {
    "colab": {
     "base_uri": "https://localhost:8080/"
    },
    "id": "JVwCDR4Psg7r",
    "outputId": "9f409193-7522-49dd-a15b-449c864be8fe"
   },
   "outputs": [],
   "source": [
    "ratings.dtypes"
   ]
  },
  {
   "cell_type": "code",
   "execution_count": null,
   "metadata": {
    "colab": {
     "base_uri": "https://localhost:8080/",
     "height": 455
    },
    "id": "IwhwcK1asg7v",
    "outputId": "4d28aaf5-1618-43b3-c941-73879add6e94"
   },
   "outputs": [],
   "source": [
    "ratings"
   ]
  },
  {
   "cell_type": "code",
   "execution_count": null,
   "metadata": {
    "id": "8slW53XAsg7w"
   },
   "outputs": [],
   "source": [
    "dtf[['overall-ratings',\n",
    "       'work-balance-stars', 'culture-values-stars',\n",
    "       'carrer-opportunities-stars', 'comp-benefit-stars',\n",
    "       'senior-mangemnet-stars']] = ratings[['overall-ratings',\n",
    "       'work-balance-stars', 'culture-values-stars',\n",
    "       'carrer-opportunities-stars', 'comp-benefit-stars',\n",
    "       'senior-mangemnet-stars']]"
   ]
  },
  {
   "cell_type": "markdown",
   "metadata": {
    "id": "JOIMmPxAsg7x"
   },
   "source": [
    "### Text Preprocessing"
   ]
  },
  {
   "cell_type": "code",
   "execution_count": null,
   "metadata": {
    "id": "Yu0R-ro2sg7x"
   },
   "outputs": [],
   "source": [
    "def clean_txt(text):\n",
    "    text = str(text)\n",
    "    for n in range(10):\n",
    "        text = text.replace(str(n) , '') #replacing n with empty quotes \n",
    "    text = text.lower() #lowercase  conversion\n",
    "    text = text.replace(\"(\" , \"\") #replacing brackets\n",
    "    text = text.replace(\")\" , \"\") #replacing quotes\n",
    "    text = re.sub('\\[.*?\\]', '', text) #to replace multiple patterns with single quotes\n",
    "    text = re.sub('[%s]' % re.escape(string.punctuation), '', text)\n",
    "    text = re.sub('\\w*\\d\\w*', '', text) #to remove all the non-word characters\n",
    "    text = re.sub('[‘’“”…]', '', text)\n",
    "    text = re.sub(r'[^\\x00-\\x7f]', '', text) #Replacing non-ASCII characters with single space \n",
    "    text = text.replace( \" \\ \" , \"\" ) #replacing back slash with single space\n",
    "    text = text.replace(\"/\" , \"\") #replacing front slash with single space\n",
    "    \n",
    "    return text"
   ]
  },
  {
   "cell_type": "code",
   "execution_count": null,
   "metadata": {
    "id": "YxnaCrzpsg7y"
   },
   "outputs": [],
   "source": [
    "df['summary'] =  df['summary'].apply(lambda x : clean_txt(x)) #applying clean function in each line of summary\n",
    "#removing latent chars, numbers, special chars - cleaning\n",
    "summary_corpus = df[[\"summary\",\"company\"]]\n",
    "\n",
    "combined_smry_dict = {} \n",
    "for comp in df['company'].unique():\n",
    "    combined_summary = \"\" \n",
    "    for summary in df['summary'][df['company'] == comp]: #converting company into key and summary to value\n",
    "        combined_summary = combined_summary +\" \"+summary\n",
    "    \n",
    "    combined_smry_dict[comp] = combined_summary\n",
    "\n",
    "df_summary = pd.DataFrame(data=combined_smry_dict , index = [0])\n",
    "df_summary = pd.DataFrame.copy(df_summary.T)\n",
    "df_summary.columns = [\"summary_corpus\"]\n",
    "df_summary['company'] = df_summary.index"
   ]
  },
  {
   "cell_type": "markdown",
   "metadata": {
    "id": "m9xC_K5Hsg7z"
   },
   "source": [
    "### Sentiment Analysis using VADER Package\n",
    "In this method, we will use the Sentiment Intensity Analyser which uses the VADER Lexicon. VADER is a long-form for Valence Aware and sEntiment Reasoner, a rule-based sentiment analysis tool. VADER calculates text emotions and determines whether the text is positive, neutral or, negative. This analyzer calculates text sentiment and produces four different classes of output scores: positive, negative, neutral, and compound.\n",
    "Here, we will make use of the Compound Score. A compound score is the aggregate of the score of a word, or precisely, the sum of all words in the lexicon, normalized between -1 and 1. "
   ]
  },
  {
   "cell_type": "code",
   "execution_count": null,
   "metadata": {
    "colab": {
     "base_uri": "https://localhost:8080/",
     "height": 0
    },
    "id": "pVJIEqGNsg71",
    "outputId": "47103bf5-9ea8-48e0-dec6-d143d3537302"
   },
   "outputs": [],
   "source": [
    "!pip install VaderSentiment\n",
    "\n",
    "dtf['combined_reviews'] = dtf['combined_reviews'].apply(lambda x : clean_txt(x)) #applying clean function in each line of summary\n",
    "#removing latent characters, numbers, special characters - cleaning\n",
    "\n",
    "from vaderSentiment.vaderSentiment import SentimentIntensityAnalyzer\n",
    "import nltk\n",
    "#from nltk.sentiment.vader import SentimentIntensityAnalyzer\n",
    "sent = SentimentIntensityAnalyzer()\n",
    "polarity = [round(sent.polarity_scores(i)['compound'], 2) for i in dtf['combined_reviews']]\n",
    "dtf['vader_sentiment_score'] = polarity\n",
    "\n",
    "# function to analyse \n",
    "def vader_analysis(compound):\n",
    "    if compound >= 0:\n",
    "        return 'Positive'\n",
    "    elif compound <= 0 :\n",
    "        return 'Negative'\n",
    "    else:\n",
    "        return 'Neutral'\n",
    "    \n",
    "dtf['vader_Analysis'] = dtf['vader_sentiment_score'].apply(vader_analysis)\n",
    "\n",
    "dtf.head()"
   ]
  },
  {
   "cell_type": "code",
   "execution_count": null,
   "metadata": {
    "colab": {
     "base_uri": "https://localhost:8080/"
    },
    "id": "oEvv5awOsg72",
    "outputId": "b10a70c6-c248-446c-bed7-8cfb3c6e5ddf"
   },
   "outputs": [],
   "source": [
    "vader_counts = dtf['vader_Analysis'].value_counts()\n",
    "vader_counts"
   ]
  },
  {
   "cell_type": "code",
   "execution_count": null,
   "metadata": {
    "colab": {
     "base_uri": "https://localhost:8080/",
     "height": 0
    },
    "id": "mu5WLjpnsg72",
    "outputId": "9378ca6a-5282-4f67-8204-b4e274a2fb33"
   },
   "outputs": [],
   "source": [
    "pol_total = dtf.groupby('company')['vader_Analysis'].value_counts(normalize=False).unstack()\n",
    "pol_total"
   ]
  },
  {
   "cell_type": "markdown",
   "metadata": {
    "id": "rZ8oKcsVsg73"
   },
   "source": [
    "To find the overall positive and negative polarity percentage count of given reviews from the dataset."
   ]
  },
  {
   "cell_type": "code",
   "execution_count": null,
   "metadata": {
    "colab": {
     "base_uri": "https://localhost:8080/",
     "height": 0
    },
    "id": "6N2xboqmsg74",
    "outputId": "18a95fe2-a32a-4d7e-ec9e-02caac5d90e8"
   },
   "outputs": [],
   "source": [
    "vader_counts= dtf['vader_Analysis'].value_counts()\n",
    "\n",
    "sns.set(rc={'axes.facecolor':'white'})\n",
    "fig, ax = plt.subplots(figsize=(10, 7))\n",
    "plt.rcParams[\"font.size\"] = \"20\"\n",
    "colors = sns.color_palette(\"gist_rainbow\")\n",
    "plt.pie(vader_counts.values,labels = vader_counts.index, explode = (0.1, 0.1), autopct='%1.1f%%', shadow=False, colors = colors)\n",
    "leg = ax.legend(prop={\"size\":15})\n"
   ]
  },
  {
   "cell_type": "code",
   "execution_count": null,
   "metadata": {
    "colab": {
     "base_uri": "https://localhost:8080/",
     "height": 0
    },
    "id": "1CmmPl71sg74",
    "outputId": "724635ba-7656-4dee-cebc-c0721d61828c"
   },
   "outputs": [],
   "source": [
    "#To add a new column category next to the age group. \n",
    "category = pd.cut(dtf['vader_sentiment_score'],bins=[-0.9,-0.5,0.1,0.5,0.9,1.0],labels=[\"not very satisfied\", \"not satisfied\",\"neutral\", \"satisfied\",\"very well satisfied\"])\n",
    "dtf.insert(11, 'polarity_grade', category)\n",
    "dtf.sample(5)"
   ]
  },
  {
   "cell_type": "code",
   "execution_count": null,
   "metadata": {
    "colab": {
     "base_uri": "https://localhost:8080/",
     "height": 0
    },
    "id": "cFZ8lmK0sg75",
    "outputId": "4fd8bb0a-c5ed-4cdb-e319-b5de442739a5"
   },
   "outputs": [],
   "source": [
    "category_total = dtf.groupby('company')['polarity_grade'].value_counts(normalize=False).unstack()\n",
    "category_total"
   ]
  },
  {
   "cell_type": "markdown",
   "metadata": {
    "id": "LwU9qPc5sg76"
   },
   "source": [
    "### Exploratory Data Analysis"
   ]
  },
  {
   "cell_type": "markdown",
   "metadata": {
    "id": "soxKbmDWsg76"
   },
   "source": [
    "To find the correlation between the variables"
   ]
  },
  {
   "cell_type": "code",
   "execution_count": null,
   "metadata": {
    "colab": {
     "base_uri": "https://localhost:8080/",
     "height": 475
    },
    "id": "KnGsuVmZsg77",
    "outputId": "bfd0b83a-7a7c-4bc5-dbc8-3d7c73bbdd21"
   },
   "outputs": [],
   "source": [
    "corr = dtf.corr()# plot the heatmap\n",
    "\n",
    "sns.set(rc={'axes.facecolor':'white'})\n",
    "\n",
    "sns.set(font_scale = 1.5)\n",
    "\n",
    "sns_plot =  sns.heatmap(corr, xticklabels=corr.columns, yticklabels=corr.columns, annot=True, cmap =\"gist_rainbow\")\n"
   ]
  },
  {
   "cell_type": "markdown",
   "metadata": {
    "id": "Dq-OlJLgsg79"
   },
   "source": [
    "To find the company that has the highest overall rating distribution"
   ]
  },
  {
   "cell_type": "code",
   "execution_count": null,
   "metadata": {
    "colab": {
     "base_uri": "https://localhost:8080/",
     "height": 548
    },
    "id": "W-wHfM6msg7-",
    "outputId": "fc8fc098-4695-4e57-d159-336f20180281"
   },
   "outputs": [],
   "source": [
    "plt.figure(1 , figsize = (15 , 9))\n",
    "sns.set(rc={'axes.facecolor':'white'})\n",
    "sns.set(font_scale = 1.5)\n",
    "n = 0 \n",
    "for company in dtf['company'].unique():\n",
    "    n += 1\n",
    "    sns.set_style(\"whitegrid\")\n",
    "    plt.subplot(3 , 2 , n )\n",
    "    plt.subplots_adjust(hspace = 0.5 , wspace = 0.5)\n",
    "    sns.violinplot(x = 'overall-ratings' , data = dtf.where(dtf['company'] == company), color = \"lawngreen\")\n",
    "    plt.xlabel('')\n",
    "    plt.ylabel(company)\n",
    "plt.show()\n"
   ]
  },
  {
   "cell_type": "markdown",
   "metadata": {
    "id": "2X7cFzYIsg7_"
   },
   "source": [
    "To find the average rating points of the job features"
   ]
  },
  {
   "cell_type": "code",
   "execution_count": null,
   "metadata": {
    "colab": {
     "base_uri": "https://localhost:8080/",
     "height": 512
    },
    "id": "xNIiupHJsg7_",
    "outputId": "7f14d869-a025-44d6-835f-6bbbbea8e699"
   },
   "outputs": [],
   "source": [
    "features = ['work-balance-stars' , 'culture-values-stars' , 'carrer-opportunities-stars',\n",
    "                     'comp-benefit-stars','senior-mangemnet-stars']\n",
    "index_companies = ['google' , 'amazon' , 'facebook' , 'netflix' , 'apple' , 'microsoft']\n",
    "\n",
    "mean_rating_dtf = pd.DataFrame(index = index_companies)\n",
    "\n",
    "for feature in features:\n",
    "    f = []\n",
    "    for comp in index_companies:\n",
    "      #except ValueError:\n",
    "        f.append(np.mean(dtf[feature][dtf['company'] == comp]))\n",
    "    mean_rating_dtf[feature] = f\n",
    "del f\n",
    "\n",
    "plt.figure(1 , figsize = (15 , 6))\n",
    "sns.set(rc={'axes.facecolor':'white'})\n",
    "sns.set(font_scale = 1.5)\n",
    "colors = sns.color_palette(\"gist_rainbow\")\n",
    "\n",
    "sns.set_style(\"whitegrid\")\n",
    "for n , c  in zip(range(6) , colors):\n",
    "    plt.scatter(x = np.arange(5) , y = mean_rating_dtf.iloc[n , :].values , s = 200 , c = c  , label = mean_rating_dtf.index[n])\n",
    "    plt.plot(np.arange(5) , mean_rating_dtf.iloc[n , :].values , '-' , color = c , \n",
    "             alpha = 0.2)\n",
    "    plt.xticks(np.arange(5) , features)\n",
    "plt.legend(bbox_to_anchor=(1.00, 1), loc=2, borderaxespad=0.)    \n",
    "plt.show()  "
   ]
  },
  {
   "cell_type": "markdown",
   "metadata": {
    "id": "E3fAP4RIsg8A"
   },
   "source": [
    "To find the distribution of polarity scores for the combined reviews "
   ]
  },
  {
   "cell_type": "code",
   "execution_count": null,
   "metadata": {
    "colab": {
     "base_uri": "https://localhost:8080/",
     "height": 714
    },
    "id": "DOUsVzgMsg8A",
    "outputId": "696f4fd0-1352-416c-fe6d-5501582f4455"
   },
   "outputs": [],
   "source": [
    "plt.figure(1 , figsize = (15 , 4))\n",
    "sns.set(rc={'axes.facecolor':'white'})\n",
    "fig1 = plt.hist(dtf['vader_sentiment_score'] , bins = 50)\n",
    "plt.title('Polarity of Combined Reviews')\n",
    "sns.set(rc={'axes.facecolor':'white'})\n",
    "colors = sns.color_palette(\"gist_rainbow\")\n",
    "plt.figure(2 , figsize = (15 , 7))\n",
    "n = 0 \n",
    "for comp , c in zip(index_companies , colors):\n",
    "    n += 1\n",
    "    plt.subplot(2 , 3 , n)\n",
    "    plt.subplots_adjust(hspace = 0.5 , wspace = 0.5)\n",
    "    fig2 = plt.hist(dtf['vader_sentiment_score'][dtf['company'] == comp], bins = 50, color = c )\n",
    "    plt.title(comp)\n",
    "plt.show()\n"
   ]
  },
  {
   "cell_type": "markdown",
   "metadata": {
    "id": "QozklXJksg8B"
   },
   "source": [
    "To find the count of companies that have reviewed the most in Glassdoor"
   ]
  },
  {
   "cell_type": "code",
   "execution_count": null,
   "metadata": {
    "colab": {
     "base_uri": "https://localhost:8080/",
     "height": 489
    },
    "id": "_rhLhG1Esg8B",
    "outputId": "a0784e2b-1b1e-4845-eb9c-21fc07a9418d"
   },
   "outputs": [],
   "source": [
    "plt.style.use('fivethirtyeight')\n",
    "sns.set(rc={'axes.facecolor':'white'})\n",
    "sns.set(font_scale = 1.5)\n",
    "plt.figure(1 , figsize = (15 , 7))\n",
    "colors = sns.color_palette(\"gist_rainbow\")\n",
    "ax = sns.countplot(y = 'company' , data = dtf  , \n",
    "              order = dtf['company'].value_counts().index)\n",
    "initialx=0\n",
    "for p in ax.patches:\n",
    "  ax.text(p.get_width(),initialx+p.get_height()/8,'{:1.0f}'.format(p.get_width()))\n",
    "  initialx+=1\n",
    "\n",
    "plt.show()"
   ]
  },
  {
   "cell_type": "markdown",
   "metadata": {
    "id": "HHluemVtsg8C"
   },
   "source": [
    "To find which employee and job profile has reviewed the most in Glassdoor"
   ]
  },
  {
   "cell_type": "code",
   "execution_count": null,
   "metadata": {
    "colab": {
     "base_uri": "https://localhost:8080/",
     "height": 473
    },
    "id": "_qcHIF-rsg8C",
    "outputId": "de099575-f60b-4ab9-ce7c-e21e94fe0162"
   },
   "outputs": [],
   "source": [
    "common_job_titles = []\n",
    "c = Counter(dtf['job-title']).most_common()[:11]\n",
    "for n in range(11):\n",
    "    common_job_titles.append(c[n][0])\n",
    "    \n",
    "plt.figure(1 , figsize = (15 , 8))\n",
    "sns.set(rc={'axes.facecolor':'white'})\n",
    "sns.set(font_scale = 1.5)\n",
    "sns.set_style(\"whitegrid\")\n",
    "ax = sns.countplot(y = 'job-title' , data = dtf[dtf['job-title'].isin(common_job_titles)] ,\n",
    "              palette = 'gist_rainbow' , \n",
    "              order = dtf[dtf['job-title'].isin(common_job_titles)]['job-title'].value_counts().index)\n",
    "initialx=0\n",
    "\n",
    "for p in ax.patches:\n",
    "  ax.text(p.get_width(),initialx+p.get_height()/8,'{:1.0f}'.format(p.get_width()))\n",
    "  initialx+=1\n",
    "plt.show()"
   ]
  },
  {
   "cell_type": "markdown",
   "metadata": {
    "id": "Azhz-KjFsg8D"
   },
   "source": [
    "Word cloud of overall reviews"
   ]
  },
  {
   "cell_type": "code",
   "execution_count": null,
   "metadata": {
    "colab": {
     "base_uri": "https://localhost:8080/",
     "height": 497
    },
    "id": "_vGStT7Dsg8D",
    "outputId": "c5a4907e-f062-4b49-f344-e8ce9425384d"
   },
   "outputs": [],
   "source": [
    "wc = WordCloud(stopwords = text.ENGLISH_STOP_WORDS, \n",
    "               background_color = \"white\" , \n",
    "               colormap = \"Dark2\" ,\n",
    "               max_font_size = 150 , \n",
    "               random_state = 42)\n",
    "corpus = ''\n",
    "for corp in df_summary['summary_corpus'].values:\n",
    "    corpus = corpus+' '+corp\n",
    "wc.generate(corpus)\n",
    "sns.set(rc={'axes.facecolor':'white'})\n",
    "plt.figure(1 , figsize = (15 , 8))\n",
    "plt.imshow(wc , interpolation=\"bilinear\")\n",
    "plt.axis(\"off\")\n",
    "plt.show()"
   ]
  },
  {
   "cell_type": "markdown",
   "metadata": {
    "id": "9qRRJKYAsg8E"
   },
   "source": [
    "Word cloud of each company"
   ]
  },
  {
   "cell_type": "code",
   "execution_count": null,
   "metadata": {
    "colab": {
     "base_uri": "https://localhost:8080/",
     "height": 572
    },
    "id": "LLzbQplIsg8E",
    "outputId": "4364128f-795e-45fc-8aea-8cf580daf859"
   },
   "outputs": [],
   "source": [
    "wc = WordCloud(stopwords = text.ENGLISH_STOP_WORDS.union(['apple' , 'amazon','netflix' , 'google', 'facebook']), \n",
    "               background_color = \"white\" , \n",
    "               colormap = \"Dark2\" ,\n",
    "               max_font_size = 150 , \n",
    "               random_state = 42)\n",
    "\n",
    "\n",
    "plt.figure(1 , figsize = (15 , 9))\n",
    "sns.set(rc={'axes.facecolor':'white'})\n",
    "for corpus , i in zip(df_summary['summary_corpus'].values,range(6)):\n",
    "    wc.generate(corpus)\n",
    "    plt.subplot(3 , 2 , i + 1)\n",
    "    plt.imshow(wc , interpolation=\"bilinear\")\n",
    "    plt.axis(\"off\")\n",
    "    plt.title(summary_corpus.index[i])\n",
    "plt.show()\n"
   ]
  },
  {
   "cell_type": "markdown",
   "metadata": {
    "id": "pWkT3XM_sg8F"
   },
   "source": [
    "### Findings and Analysis - Machine Learning Algorithms \n",
    "\n",
    "To find the accuracy of congenial between the text reviews and numeric ratings given by individual employees."
   ]
  },
  {
   "cell_type": "code",
   "execution_count": null,
   "metadata": {
    "id": "1nUt3VGfsg8F"
   },
   "outputs": [],
   "source": [
    "X=dtf[['overall-ratings','work-balance-stars','culture-values-stars','carrer-opportunities-stars','comp-benefit-stars','senior-mangemnet-stars']]\n",
    "y=dtf['vader_sentiment_score']"
   ]
  },
  {
   "cell_type": "code",
   "execution_count": null,
   "metadata": {
    "id": "EXTm85hAsg8G"
   },
   "outputs": [],
   "source": [
    "y = y.astype(np.int)"
   ]
  },
  {
   "cell_type": "code",
   "execution_count": null,
   "metadata": {
    "id": "pM47tlMjsg8G"
   },
   "outputs": [],
   "source": [
    "\n",
    "from sklearn.model_selection import train_test_split\n",
    "from sklearn.model_selection import cross_validate\n",
    "\n",
    "X_train, X_test, y_train, y_test = train_test_split(\n",
    "    X, y, test_size=0.20, random_state=40)"
   ]
  },
  {
   "cell_type": "code",
   "execution_count": null,
   "metadata": {
    "colab": {
     "base_uri": "https://localhost:8080/"
    },
    "id": "Ldih628osg8I",
    "outputId": "e2c64a4d-d9ff-422b-8af7-74e6ecda2406"
   },
   "outputs": [],
   "source": [
    "print('X_train dimension= ', X_train.shape)\n",
    "print('X_test dimension= ', X_test.shape)\n",
    "print('y_train dimension= ', y_train.shape)\n",
    "print('y_train dimension= ', y_test.shape)"
   ]
  },
  {
   "cell_type": "markdown",
   "metadata": {
    "id": "6bxv1CKesg8J"
   },
   "source": [
    "Random Forest"
   ]
  },
  {
   "cell_type": "code",
   "execution_count": null,
   "metadata": {
    "colab": {
     "base_uri": "https://localhost:8080/"
    },
    "id": "3Nr_sW57sg8J",
    "outputId": "0f243d5f-6315-4c33-f908-a248031f2d47"
   },
   "outputs": [],
   "source": [
    "# importing random forest classifier from assemble module\n",
    "from sklearn.ensemble import RandomForestClassifier\n",
    "# creating a RF classifier\n",
    "RF = RandomForestClassifier(n_estimators = 100) \n",
    "# Training the model on the training dataset\n",
    "# fit function is used to train the model using the training sets as parameters\n",
    "RF.fit(X_train, y_train)\n",
    " \n",
    "# performing predictions on the test dataset\n",
    "RF.predict(X_test)\n",
    "\n",
    "RF_result = RF.score(X_test, y_test)\n",
    " \n",
    "print(\"ACCURACY OF THE MODEL: \", RF_result)"
   ]
  },
  {
   "cell_type": "markdown",
   "metadata": {
    "id": "Oqp8PQQDsg8K"
   },
   "source": [
    "AdaBoost Classifier"
   ]
  },
  {
   "cell_type": "code",
   "execution_count": null,
   "metadata": {
    "colab": {
     "base_uri": "https://localhost:8080/"
    },
    "id": "o7hYKWa8sg8K",
    "outputId": "8089639a-bb80-404d-9b97-2e0ef892115e"
   },
   "outputs": [],
   "source": [
    "from sklearn.ensemble import AdaBoostClassifier\n",
    "from sklearn.datasets import make_classification\n",
    "\n",
    "ABC = AdaBoostClassifier(n_estimators=100, random_state=0)\n",
    "ABC.fit(X_train, y_train)\n",
    "\n",
    "ABC.predict(X_test)\n",
    "\n",
    "ABC_result = ABC.score(X_test, y_test)\n",
    "\n",
    "print(\"ACCURACY OF THE MODEL: \", ABC_result)"
   ]
  },
  {
   "cell_type": "markdown",
   "metadata": {
    "id": "g_XTWWk3sg8L"
   },
   "source": [
    "Gaussian Naive Bayes"
   ]
  },
  {
   "cell_type": "code",
   "execution_count": null,
   "metadata": {
    "colab": {
     "base_uri": "https://localhost:8080/"
    },
    "id": "t0OqT1wKsg8L",
    "outputId": "85536185-34a3-4ce2-8a87-bf613e9dfc32"
   },
   "outputs": [],
   "source": [
    "from sklearn.naive_bayes import GaussianNB\n",
    "from sklearn.datasets import make_classification\n",
    "GNB = GaussianNB()\n",
    "GNB.fit(X_train, y_train)\n",
    "\n",
    "GNB.predict(X_test)\n",
    "\n",
    "GNB_result = GNB.score(X_test, y_test)\n",
    "\n",
    "print(\"ACCURACY OF THE MODEL: \", GNB_result)"
   ]
  },
  {
   "cell_type": "markdown",
   "metadata": {
    "id": "Hs2lpZH7sg8M"
   },
   "source": [
    "Support Vector Machine"
   ]
  },
  {
   "cell_type": "code",
   "execution_count": null,
   "metadata": {
    "colab": {
     "base_uri": "https://localhost:8080/"
    },
    "id": "1UBroQ7wsg8N",
    "outputId": "38af110b-fbdb-4427-9fdc-9fa9b21fd01a"
   },
   "outputs": [],
   "source": [
    "from sklearn.pipeline import make_pipeline\n",
    "from sklearn.preprocessing import StandardScaler\n",
    "\n",
    "from sklearn.svm import SVC\n",
    "SVM = make_pipeline(StandardScaler(), SVC(gamma='auto'))\n",
    "SVM.fit(X_train, y_train)\n",
    "\n",
    "SVM.predict(X_test)\n",
    "\n",
    "SVM_result = SVM.score(X_test, y_test)\n",
    "\n",
    "print(\"ACCURACY OF THE MODEL: \", SVM_result)\n"
   ]
  },
  {
   "cell_type": "code",
   "execution_count": null,
   "metadata": {
    "id": "8UaYuQ9fsg8O"
   },
   "outputs": [],
   "source": [
    "#dtf.to_csv(\"grade_final.csv\")"
   ]
  },
  {
   "cell_type": "markdown",
   "metadata": {
    "id": "GsOsOlUUsg8P"
   },
   "source": [
    "Multinomial Logistic Regression "
   ]
  },
  {
   "cell_type": "code",
   "execution_count": null,
   "metadata": {
    "colab": {
     "base_uri": "https://localhost:8080/"
    },
    "id": "dDJxeFLvsg8Q",
    "outputId": "cb72d706-6f37-4e94-fea3-4d39d10b72ab"
   },
   "outputs": [],
   "source": [
    "dt =pd.read_csv(\"grade_final.csv\",encoding='latin-1',index_col=0)\n",
    "dt.info()"
   ]
  },
  {
   "cell_type": "code",
   "execution_count": null,
   "metadata": {
    "id": "Vne58BrLsg8Q"
   },
   "outputs": [],
   "source": [
    "# Import label encoder\n",
    "from sklearn import preprocessing\n",
    " \n",
    "# label_encoder object knows how to understand word labels.\n",
    "label_encoder = preprocessing.LabelEncoder()\n",
    " \n",
    "# Encode labels in column 'species'.\n",
    "dt['polarity_grade']= label_encoder.fit_transform(dt['polarity_grade'])"
   ]
  },
  {
   "cell_type": "code",
   "execution_count": null,
   "metadata": {
    "id": "3N4sXNIXsg8R"
   },
   "outputs": [],
   "source": [
    "from sklearn.model_selection import train_test_split\n",
    "X = dt[['overall-ratings','work-balance-stars','culture-values-stars','carrer-opportunities-stars','comp-benefit-stars','senior-mangemnet-stars','vader_sentiment_score']]\n",
    "Y = dt['polarity_grade']\n",
    "\n",
    "X_train, X_test, Y_train, Y_test = train_test_split(X, Y, test_size=0.20)"
   ]
  },
  {
   "cell_type": "code",
   "execution_count": null,
   "metadata": {
    "colab": {
     "base_uri": "https://localhost:8080/"
    },
    "id": "uvrdxmMzsg8T",
    "outputId": "b975c355-57c4-4aff-9c13-8007cccb9783"
   },
   "outputs": [],
   "source": [
    "from sklearn.linear_model import LogisticRegression\n",
    "\n",
    "#creating the multinomial logistic regression model\n",
    "LR = LogisticRegression(multi_class='multinomial',solver='lbfgs')\n",
    "LR.fit(X_train, Y_train)\n",
    "\n",
    "\n",
    "#evaluating the score of the model\n",
    "LR_result = LR.score( X_test, Y_test)\n",
    "\n",
    "\n",
    "print(\"ACCURACY OF THE MODEL: \", LR_result)"
   ]
  },
  {
   "cell_type": "markdown",
   "metadata": {
    "id": "28ZV_6s9sg8T"
   },
   "source": [
    "To find the positive and negative polarities of current and former employees individually"
   ]
  },
  {
   "cell_type": "code",
   "execution_count": null,
   "metadata": {
    "colab": {
     "base_uri": "https://localhost:8080/"
    },
    "id": "UtoNUo8dsg8U",
    "outputId": "34b87173-5f65-41f5-fdf4-206543bd6fef"
   },
   "outputs": [],
   "source": [
    "former = dtf[dtf['job-title'].str.contains('Former Employee')]\n",
    "former_counts = former['vader_Analysis'].value_counts()\n",
    "former_counts"
   ]
  },
  {
   "cell_type": "code",
   "execution_count": null,
   "metadata": {
    "colab": {
     "base_uri": "https://localhost:8080/"
    },
    "id": "R0PTmzkbsg8U",
    "outputId": "289f262f-770c-4c22-8e44-5db68bc9d2c3"
   },
   "outputs": [],
   "source": [
    "current = dtf[dtf['job-title'].str.contains('Current Employee')]\n",
    "current_counts = current['vader_Analysis'].value_counts()\n",
    "current_counts"
   ]
  },
  {
   "cell_type": "markdown",
   "metadata": {
    "id": "HCJ5lqDVsg8V"
   },
   "source": [
    "### MANOVA\n",
    "To find the significant difference in the reviews among the current and former employees\n"
   ]
  },
  {
   "cell_type": "code",
   "execution_count": null,
   "metadata": {
    "id": "8jIL0a3wsg8V"
   },
   "outputs": [],
   "source": [
    "#! pip install statsmodels\n",
    "import statsmodels \n",
    "from statsmodels.multivariate.manova import MANOVA"
   ]
  },
  {
   "cell_type": "code",
   "execution_count": null,
   "metadata": {
    "id": "6XXHjoDqsg8W"
   },
   "outputs": [],
   "source": [
    "x = dt[['overall-ratings','work-balance-stars','culture-values-stars','carrer-opportunities-stars','comp-benefit-stars','senior-mangemnet-stars','vader_sentiment_score']]\n",
    "y = dt['job-title']"
   ]
  },
  {
   "cell_type": "code",
   "execution_count": null,
   "metadata": {
    "colab": {
     "base_uri": "https://localhost:8080/"
    },
    "id": "dUWnEQWRsg8W",
    "outputId": "42f17239-38d2-4d51-ae87-8be95de4a710"
   },
   "outputs": [],
   "source": [
    "\n",
    "gog_dt = dt.apply(lambda row: row[dt['company'].isin(['google'])])\n",
    "\n",
    "jx = gog_dt[['overall-ratings','work-balance-stars','culture-values-stars', 'carrer-opportunities-stars','comp-benefit-stars','senior-mangemnet-stars','vader_sentiment_score' ]]\n",
    "jy = gog_dt['job-title']\n",
    "\n",
    "# fit manova\n",
    "manova_result = MANOVA.from_formula('jy ~jx', gog_dt)\n",
    "print(manova_result.mv_test())"
   ]
  },
  {
   "cell_type": "code",
   "execution_count": null,
   "metadata": {
    "colab": {
     "base_uri": "https://localhost:8080/"
    },
    "id": "wANvZdJwsg8X",
    "outputId": "9970a37e-a8ea-4270-822a-2e116f6fb685"
   },
   "outputs": [],
   "source": [
    "fb_dt = dt.apply(lambda row: row[dt['company'].isin(['facebook'])])\n",
    "\n",
    "jx = fb_dt[['overall-ratings','work-balance-stars','culture-values-stars', 'carrer-opportunities-stars','comp-benefit-stars','senior-mangemnet-stars','vader_sentiment_score' ]]\n",
    "jy = fb_dt['job-title']\n",
    "\n",
    "# fit manova\n",
    "manova_result = MANOVA.from_formula('jy ~jx', fb_dt)\n",
    "print(manova_result.mv_test())"
   ]
  },
  {
   "cell_type": "code",
   "execution_count": null,
   "metadata": {
    "colab": {
     "base_uri": "https://localhost:8080/"
    },
    "id": "seym2mjHsg8X",
    "outputId": "5d58d30c-a19e-424b-d022-3fa604f441ae"
   },
   "outputs": [],
   "source": [
    "apl_dt = dt.apply(lambda row: row[dt['company'].isin(['apple'])])\n",
    "\n",
    "jx = apl_dt[['overall-ratings','work-balance-stars','culture-values-stars', 'carrer-opportunities-stars','comp-benefit-stars','senior-mangemnet-stars','vader_sentiment_score' ]]\n",
    "jy = apl_dt['job-title']\n",
    "\n",
    "# fit manova\n",
    "manova_result = MANOVA.from_formula('jy ~jx', apl_dt)\n",
    "print(manova_result.mv_test())"
   ]
  },
  {
   "cell_type": "code",
   "execution_count": null,
   "metadata": {
    "colab": {
     "base_uri": "https://localhost:8080/"
    },
    "id": "tVLlkl4vsg8Y",
    "outputId": "2dfb5d3b-56a5-47e0-d9ce-9568146daf2e"
   },
   "outputs": [],
   "source": [
    "net_dt = dt.apply(lambda row: row[dt['company'].isin(['netflix'])])\n",
    "\n",
    "jx = net_dt[['overall-ratings','work-balance-stars','culture-values-stars', 'carrer-opportunities-stars','comp-benefit-stars','senior-mangemnet-stars','vader_sentiment_score' ]]\n",
    "jy = net_dt['job-title']\n",
    "\n",
    "# fit manova\n",
    "manova_result = MANOVA.from_formula('jy ~jx', net_dt)\n",
    "print(manova_result.mv_test())"
   ]
  },
  {
   "cell_type": "code",
   "execution_count": null,
   "metadata": {
    "colab": {
     "base_uri": "https://localhost:8080/"
    },
    "id": "osRcvwCmsg8Y",
    "outputId": "2e47ad3c-c1ae-4480-8780-2bfd657736cb"
   },
   "outputs": [],
   "source": [
    "mic_dt = dt.apply(lambda row: row[dt['company'].isin(['microsoft'])])\n",
    "\n",
    "jx = mic_dt[['overall-ratings','work-balance-stars','culture-values-stars', 'carrer-opportunities-stars','comp-benefit-stars','senior-mangemnet-stars','vader_sentiment_score' ]]\n",
    "jy = mic_dt['job-title']\n",
    "\n",
    "# fit manova\n",
    "manova_result = MANOVA.from_formula('jy ~jx', mic_dt)\n",
    "print(manova_result.mv_test())"
   ]
  }
 ],
 "metadata": {
  "colab": {
   "collapsed_sections": [
    "JOIMmPxAsg7x",
    "m9xC_K5Hsg7z"
   ],
   "name": "Employee_Retention_code.ipynb",
   "provenance": []
  },
  "kernelspec": {
   "display_name": "Python 3",
   "language": "python",
   "name": "python3"
  },
  "language_info": {
   "codemirror_mode": {
    "name": "ipython",
    "version": 3
   },
   "file_extension": ".py",
   "mimetype": "text/x-python",
   "name": "python",
   "nbconvert_exporter": "python",
   "pygments_lexer": "ipython3",
   "version": "3.7.6"
  }
 },
 "nbformat": 4,
 "nbformat_minor": 1
}
