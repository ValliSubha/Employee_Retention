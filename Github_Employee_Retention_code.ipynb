{
 "cells": [
  {
   "cell_type": "code",
   "execution_count": null,
   "metadata": {
    "id": "-pnA_3zmsg7N"
   },
   "outputs": [],
   "source": [
    "import numpy as np \n",
    "import pandas as pd \n",
    "import re #Importing regular expression operations\n",
    "import string\n",
    "from wordcloud import WordCloud # to represent the text data (visually) in which the size of each word indicates its frequency or importance.\n",
    "from sklearn.feature_extraction import text \n",
    "import matplotlib.pyplot as plt\n",
    "import seaborn as sns\n",
    "import warnings\n",
    "import os\n",
    "warnings.filterwarnings(\"ignore\")"
   ]
  },
  {
   "cell_type": "code",
   "execution_count": null,
   "metadata": {
    "id": "QHWVHsc6sg7U"
   },
   "outputs": [],
   "source": [
    "# df=pd.read_csv(\"employee_reviews.csv\",encoding='latin-1',index_col=0)\n",
    "# df.info()"
   ]
  },
  {
   "cell_type": "code",
   "execution_count": null,
   "metadata": {
    "colab": {
     "base_uri": "https://localhost:8080/"
    },
    "id": "4JyCN5wv-d4y",
    "outputId": "9481084e-d7e3-43c2-a39c-62d6ddadf6b0"
   },
   "outputs": [],
   "source": [
    "from google.colab import drive\n",
    "drive.mount('/content/drive')"
   ]
  },
  {
   "cell_type": "code",
   "execution_count": null,
   "metadata": {
    "id": "fUMZ2ARP-_js"
   },
   "outputs": [],
   "source": [
    "df = pd.read_csv(\"/content/drive/MyDrive/employee_reviews.csv\",encoding='latin-1',index_col=0)\n",
    "#df.info"
   ]
  },
  {
   "cell_type": "code",
   "execution_count": null,
   "metadata": {
    "colab": {
     "base_uri": "https://localhost:8080/",
     "height": 569
    },
    "id": "chHnf1Zksg7W",
    "outputId": "0a3e5e13-f3ba-434a-ca67-b16cf9cac162"
   },
   "outputs": [],
   "source": [
    "df.head(3)"
   ]
  },
  {
   "cell_type": "code",
   "execution_count": null,
   "metadata": {
    "colab": {
     "base_uri": "https://localhost:8080/"
    },
    "id": "AiGxZJshsg7X",
    "outputId": "17067111-ea54-4019-919d-44930f5c2ee0"
   },
   "outputs": [],
   "source": [
    "print(df.shape)"
   ]
  },
  {
   "cell_type": "code",
   "execution_count": null,
   "metadata": {
    "colab": {
     "base_uri": "https://localhost:8080/"
    },
    "id": "dOdDSBCcsg7Y",
    "outputId": "ceb9c59f-4a1c-426f-f1be-30a3825fec90"
   },
   "outputs": [],
   "source": [
    "print(df.isnull().sum())"
   ]
  },
  {
   "cell_type": "code",
   "execution_count": null,
   "metadata": {
    "colab": {
     "base_uri": "https://localhost:8080/",
     "height": 300
    },
    "id": "rnWM_ukxsg7Z",
    "outputId": "c6d4dfb2-1048-4dc6-c4dc-2447ba3090c4"
   },
   "outputs": [],
   "source": [
    "df.describe()"
   ]
  },
  {
   "cell_type": "markdown",
   "metadata": {
    "id": "x-BrqeaYsg7a"
   },
   "source": [
    "#### Segregating the data company wise to find their individual shape"
   ]
  },
  {
   "cell_type": "code",
   "execution_count": null,
   "metadata": {
    "colab": {
     "base_uri": "https://localhost:8080/"
    },
    "id": "1MzrI5lFsg7c",
    "outputId": "a5fbb27d-dad1-41e2-8171-383a9990be63"
   },
   "outputs": [],
   "source": [
    "gog_df = df.apply(lambda row: row[df['company'].isin(['google'])])\n",
    "print(\"Shape of Google : \", gog_df.shape)\n",
    "\n",
    "amz_df = df.apply(lambda row: row[df['company'].isin(['amazon'])])\n",
    "print(\"Shape of Amazon : \",amz_df.shape)\n",
    "\n",
    "fb_df = df.apply(lambda row: row[df['company'].isin(['facebook'])])\n",
    "print(\"Shape of Facebook : \",fb_df.shape)\n",
    "\n",
    "net_df = df.apply(lambda row: row[df['company'].isin(['netflix'])])\n",
    "print(\"Shape of Netflix : \",net_df.shape)\n",
    "\n",
    "apl_df = df.apply(lambda row: row[df['company'].isin(['apple'])])\n",
    "print(\"Shape of Apple : \",apl_df.shape)\n",
    "\n",
    "mcf_df = df.apply(lambda row: row[df['company'].isin(['microsoft'])])\n",
    "print(\"Shape of Microsoft : \",mcf_df.shape)"
   ]
  },
  {
   "cell_type": "code",
   "execution_count": null,
   "metadata": {
    "colab": {
     "base_uri": "https://localhost:8080/"
    },
    "id": "vH13FhzSsg7d",
    "outputId": "b626c4a8-409d-4815-aac7-26b4afe5ebdf"
   },
   "outputs": [],
   "source": [
    "df['combined_reviews'] = df['summary']+'. '+df['advice-to-mgmt']+'. '+df['pros']+'. '+df['cons']\n",
    "df['combined_reviews']"
   ]
  },
  {
   "cell_type": "markdown",
   "metadata": {
    "id": "ANiire-nsg7e"
   },
   "source": [
    "### Creating a new dataframe which would contain only the needed column attributes."
   ]
  },
  {
   "cell_type": "code",
   "execution_count": null,
   "metadata": {
    "id": "zA5bXc-esg7f"
   },
   "outputs": [],
   "source": [
    "dtf = df[['company','job-title', 'combined_reviews',\n",
    "        'overall-ratings', 'work-balance-stars',\n",
    "       'culture-values-stars', 'carrer-opportunities-stars',\n",
    "       'comp-benefit-stars', 'senior-mangemnet-stars']]"
   ]
  },
  {
   "cell_type": "code",
   "execution_count": null,
   "metadata": {
    "colab": {
     "base_uri": "https://localhost:8080/",
     "height": 309
    },
    "id": "Bs0fwAPKakVb",
    "outputId": "36841309-ab5f-4a82-f0bb-bcdfdf1c232a"
   },
   "outputs": [],
   "source": [
    "#To find the skewness of the dataset through boxplot.\n",
    "skew = dtf.skew(axis = 0, skipna = True)\n",
    "sns.boxplot(skew)"
   ]
  },
  {
   "cell_type": "markdown",
   "metadata": {
    "id": "HJCG-pNosg7g"
   },
   "source": [
    "### Data Cleaning"
   ]
  },
  {
   "cell_type": "code",
   "execution_count": null,
   "metadata": {
    "id": "aJVn5DZ-sg7h"
   },
   "outputs": [],
   "source": [
    "ratings = dtf[['overall-ratings',\n",
    "       'work-balance-stars', 'culture-values-stars',\n",
    "       'carrer-opportunities-stars', 'comp-benefit-stars',\n",
    "       'senior-mangemnet-stars']]"
   ]
  },
  {
   "cell_type": "code",
   "execution_count": null,
   "metadata": {
    "colab": {
     "base_uri": "https://localhost:8080/"
    },
    "id": "7F9yDNtwsg7i",
    "outputId": "2104d03c-7d55-4f54-b5bb-a804d24f836b"
   },
   "outputs": [],
   "source": [
    "ratings.dtypes"
   ]
  },
  {
   "cell_type": "code",
   "execution_count": null,
   "metadata": {
    "colab": {
     "base_uri": "https://localhost:8080/"
    },
    "id": "XpFcQDeDsg7j",
    "outputId": "eb879f20-3066-4bc3-c46a-c035d778558c"
   },
   "outputs": [],
   "source": [
    "print(\"Unique Values in Overall rating column : \" , ratings['overall-ratings'].unique())\n",
    "print(\"Unique Values in work-balance-stars column : \", ratings['work-balance-stars'].unique())\n",
    "print(\"Unique Values in culture-values-stars column : \", ratings['culture-values-stars'].unique())\n",
    "print(\"Unique Values in carrer-opportunities-stars column : \", ratings['carrer-opportunities-stars'].unique())\n",
    "print(\"Unique Values in comp-benefit-stars column : \", ratings['comp-benefit-stars'].unique())\n",
    "print(\"Unique Values in senior-mangemnet-stars column : \", ratings['senior-mangemnet-stars'].unique())"
   ]
  },
  {
   "cell_type": "code",
   "execution_count": null,
   "metadata": {
    "id": "2tqMduumsg7k"
   },
   "outputs": [],
   "source": [
    "#step 1\n",
    "ratings['overall-ratings'] = ratings['overall-ratings'].replace('None', np.nan)\n",
    "ratings['overall-ratings'] = ratings['overall-ratings'].replace('Nan', np.nan)\n",
    "ratings['overall-ratings'] = ratings['overall-ratings'].replace('none', np.nan)\n",
    "\n",
    "ratings['work-balance-stars'] = ratings['work-balance-stars'].replace('None', np.nan)\n",
    "ratings['work-balance-stars'] = ratings['work-balance-stars'].replace('Nan', np.nan)\n",
    "ratings['work-balance-stars'] = ratings['work-balance-stars'].replace('none', np.nan)\n",
    "\n",
    "ratings['culture-values-stars'] = ratings['culture-values-stars'].replace('None', np.nan)\n",
    "ratings['culture-values-stars'] = ratings['culture-values-stars'].replace('Nan', np.nan)\n",
    "ratings['culture-values-stars'] = ratings['culture-values-stars'].replace('none', np.nan)\n",
    "\n",
    "ratings['carrer-opportunities-stars'] = ratings['carrer-opportunities-stars'].replace('None', np.nan)\n",
    "ratings['carrer-opportunities-stars'] = ratings['carrer-opportunities-stars'].replace('Nan', np.nan)\n",
    "ratings['carrer-opportunities-stars'] = ratings['carrer-opportunities-stars'].replace('none', np.nan)\n",
    "\n",
    "ratings['comp-benefit-stars'] = ratings['comp-benefit-stars'].replace('None', np.nan)\n",
    "ratings['comp-benefit-stars'] = ratings['comp-benefit-stars'].replace('Nan', np.nan)\n",
    "ratings['comp-benefit-stars'] = ratings['comp-benefit-stars'].replace('none', np.nan)\n",
    "\n",
    "ratings['senior-mangemnet-stars'] = ratings['senior-mangemnet-stars'].replace('None', np.nan)\n",
    "ratings['senior-mangemnet-stars'] = ratings['senior-mangemnet-stars'].replace('Nan', np.nan)\n",
    "ratings['senior-mangemnet-stars'] = ratings['senior-mangemnet-stars'].replace('none', np.nan)"
   ]
  },
  {
   "cell_type": "code",
   "execution_count": null,
   "metadata": {
    "id": "BDeUfOUJsg7o"
   },
   "outputs": [],
   "source": [
    "ratings['work-balance-stars'] = ratings['work-balance-stars'].astype(float)\n",
    "ratings['culture-values-stars'] = ratings['culture-values-stars'].astype(float)\n",
    "ratings['carrer-opportunities-stars'] = ratings['carrer-opportunities-stars'].astype(float)\n",
    "ratings['comp-benefit-stars'] = ratings['comp-benefit-stars'].astype(float)\n",
    "ratings['senior-mangemnet-stars'] = ratings['senior-mangemnet-stars'].astype(float)"
   ]
  },
  {
   "cell_type": "code",
   "execution_count": null,
   "metadata": {
    "id": "fsXGbJjNsg7q"
   },
   "outputs": [],
   "source": [
    "#step2\n",
    "ratings['overall-ratings']= ratings['overall-ratings'].fillna((ratings['overall-ratings'].mean(skipna=True)))\n",
    "ratings['work-balance-stars']= ratings['work-balance-stars'].fillna((ratings['work-balance-stars'].mean(skipna=True)))\n",
    "ratings['culture-values-stars']= ratings['culture-values-stars'].fillna((ratings['culture-values-stars'].mean(skipna=True)))\n",
    "ratings['carrer-opportunities-stars']= ratings['carrer-opportunities-stars'].fillna((ratings['carrer-opportunities-stars'].mean(skipna=True)))\n",
    "ratings['comp-benefit-stars']= ratings['comp-benefit-stars'].fillna((ratings['comp-benefit-stars'].mean(skipna=True)))\n",
    "ratings['senior-mangemnet-stars']= ratings['senior-mangemnet-stars'].fillna((ratings['senior-mangemnet-stars'].mean(skipna=True)))\n"
   ]
  },
  {
   "cell_type": "code",
   "execution_count": null,
   "metadata": {
    "colab": {
     "base_uri": "https://localhost:8080/"
    },
    "id": "JVwCDR4Psg7r",
    "outputId": "761d6d7b-844f-4ca9-aea6-1e908cb851b1"
   },
   "outputs": [],
   "source": [
    "ratings.dtypes"
   ]
  },
  {
   "cell_type": "code",
   "execution_count": null,
   "metadata": {
    "colab": {
     "base_uri": "https://localhost:8080/"
    },
    "id": "IwhwcK1asg7v",
    "outputId": "a908ece2-3d5a-4105-b2f2-d3378368ff65"
   },
   "outputs": [],
   "source": [
    "ratings"
   ]
  },
  {
   "cell_type": "code",
   "execution_count": null,
   "metadata": {
    "id": "8slW53XAsg7w"
   },
   "outputs": [],
   "source": [
    "dtf[['overall-ratings',\n",
    "       'work-balance-stars', 'culture-values-stars',\n",
    "       'carrer-opportunities-stars', 'comp-benefit-stars',\n",
    "       'senior-mangemnet-stars']] = ratings[['overall-ratings',\n",
    "       'work-balance-stars', 'culture-values-stars',\n",
    "       'carrer-opportunities-stars', 'comp-benefit-stars',\n",
    "       'senior-mangemnet-stars']]"
   ]
  },
  {
   "cell_type": "code",
   "execution_count": null,
   "metadata": {
    "colab": {
     "base_uri": "https://localhost:8080/"
    },
    "id": "ryCf7bG5Pwse",
    "outputId": "641e0d4e-fdb8-4c29-f4ef-47567dc3f331"
   },
   "outputs": [],
   "source": [
    "dtf.describe()"
   ]
  },
  {
   "cell_type": "code",
   "execution_count": null,
   "metadata": {
    "colab": {
     "base_uri": "https://localhost:8080/"
    },
    "id": "t5mH5XqqPwsf",
    "outputId": "c47bf83f-4f48-4b32-be97-da42c1c41254"
   },
   "outputs": [],
   "source": [
    "dtf.sample(5)"
   ]
  },
  {
   "cell_type": "markdown",
   "metadata": {
    "id": "JOIMmPxAsg7x"
   },
   "source": [
    "### Text Preprocessing"
   ]
  },
  {
   "cell_type": "code",
   "execution_count": null,
   "metadata": {
    "id": "Yu0R-ro2sg7x"
   },
   "outputs": [],
   "source": [
    "def clean_txt(text):\n",
    "    text = str(text)\n",
    "    for n in range(10):\n",
    "        text = text.replace(str(n) , '') #replacing n with empty quotes \n",
    "    text = text.lower() #lowercase  conversion\n",
    "    text = text.replace(\"(\" , \"\") #replacing brackets\n",
    "    text = text.replace(\")\" , \"\") #replacing quotes\n",
    "    text = re.sub('\\[.*?\\]', '', text) #to replace multiple patterns with single quotes\n",
    "    text = re.sub('[%s]' % re.escape(string.punctuation), '', text)\n",
    "    text = re.sub('\\w*\\d\\w*', '', text) #to remove all the non-word characters\n",
    "    text = re.sub('[‘’“”…]', '', text)\n",
    "    text = re.sub(r'[^\\x00-\\x7f]', '', text) #Replacing non-ASCII characters with single space \n",
    "    text = text.replace( \" \\ \" , \"\" ) #replacing back slash with single space\n",
    "    text = text.replace(\"/\" , \"\") #replacing front slash with single space\n",
    "    \n",
    "    return text"
   ]
  },
  {
   "cell_type": "code",
   "execution_count": null,
   "metadata": {
    "id": "YxnaCrzpsg7y"
   },
   "outputs": [],
   "source": [
    "df['summary'] =  df['summary'].apply(lambda x : clean_txt(x)) #applying clean function in each line of summary\n",
    "#removing latent chars, numbers, special chars - cleaning\n",
    "summary_corpus = df[[\"summary\",\"company\"]]\n",
    "\n",
    "combined_smry_dict = {} \n",
    "for comp in df['company'].unique():\n",
    "    combined_summary = \"\" \n",
    "    for summary in df['summary'][df['company'] == comp]: #converting company into key and summary to value\n",
    "        combined_summary = combined_summary +\" \"+summary\n",
    "    \n",
    "    combined_smry_dict[comp] = combined_summary\n",
    "\n",
    "df_summary = pd.DataFrame(data=combined_smry_dict , index = [0])\n",
    "df_summary = pd.DataFrame.copy(df_summary.T)\n",
    "df_summary.columns = [\"summary_corpus\"]\n",
    "df_summary['company'] = df_summary.index"
   ]
  },
  {
   "cell_type": "markdown",
   "metadata": {
    "id": "m9xC_K5Hsg7z"
   },
   "source": [
    "### Sentiment Analysis using VADER Package\n",
    "In this method, we will use the Sentiment Intensity Analyser which uses the VADER Lexicon. VADER is a long-form for Valence Aware and sEntiment Reasoner, a rule-based sentiment analysis tool. VADER calculates text emotions and determines whether the text is positive, neutral or, negative. This analyzer calculates text sentiment and produces four different classes of output scores: positive, negative, neutral, and compound.\n",
    "Here, we will make use of the Compound Score. A compound score is the aggregate of the score of a word, or precisely, the sum of all words in the lexicon, normalized between -1 and 1. "
   ]
  },
  {
   "cell_type": "code",
   "execution_count": null,
   "metadata": {
    "colab": {
     "background_save": true,
     "base_uri": "https://localhost:8080/"
    },
    "id": "pVJIEqGNsg71",
    "outputId": "51be40bf-f3ee-4228-ae82-fd4b3aa22f27"
   },
   "outputs": [],
   "source": [
    "!pip install VaderSentiment\n",
    "\n",
    "dtf['combined_reviews'] = dtf['combined_reviews'].apply(lambda x : clean_txt(x)) #applying clean function in each line of summary\n",
    "#removing latent characters, numbers, special characters - cleaning\n",
    "\n",
    "from vaderSentiment.vaderSentiment import SentimentIntensityAnalyzer\n",
    "import nltk\n",
    "#from nltk.sentiment.vader import SentimentIntensityAnalyzer\n",
    "sent = SentimentIntensityAnalyzer()\n",
    "polarity = [round(sent.polarity_scores(i)['compound'], 2) for i in dtf['combined_reviews']]\n",
    "dtf['vader_sentiment_score'] = polarity\n",
    "\n",
    "# function to analyse \n",
    "def vader_analysis(compound):\n",
    "    if compound >= 0:\n",
    "        return 'Positive'\n",
    "    elif compound <= 0 :\n",
    "        return 'Negative'\n",
    "    else:\n",
    "        return 'Neutral'\n",
    "    \n",
    "dtf['vader_Analysis'] = dtf['vader_sentiment_score'].apply(vader_analysis)\n",
    "\n",
    "dtf.head()"
   ]
  },
  {
   "cell_type": "code",
   "execution_count": null,
   "metadata": {
    "colab": {
     "background_save": true
    },
    "id": "oEvv5awOsg72",
    "outputId": "6c280a74-216a-4ea3-88c4-9a147fab900e"
   },
   "outputs": [],
   "source": [
    "vader_counts = dtf['vader_Analysis'].value_counts()\n",
    "vader_counts"
   ]
  },
  {
   "cell_type": "code",
   "execution_count": null,
   "metadata": {
    "colab": {
     "background_save": true
    },
    "id": "mu5WLjpnsg72",
    "outputId": "f1eb521b-7536-49ff-fe66-1a108524c6f8"
   },
   "outputs": [],
   "source": [
    "pol_total = dtf.groupby('company')['vader_Analysis'].value_counts(normalize=False).unstack()\n",
    "pol_total"
   ]
  },
  {
   "cell_type": "markdown",
   "metadata": {
    "id": "rZ8oKcsVsg73"
   },
   "source": [
    "To find the overall positive and negative polarity percentage count of given reviews from the dataset."
   ]
  },
  {
   "cell_type": "code",
   "execution_count": null,
   "metadata": {
    "colab": {
     "background_save": true
    },
    "id": "6N2xboqmsg74",
    "outputId": "5004b2ae-d030-4c7b-fac4-05e44540d00e"
   },
   "outputs": [],
   "source": [
    "vader_counts= dtf['vader_Analysis'].value_counts()\n",
    "\n",
    "sns.set(rc={'axes.facecolor':'white'})\n",
    "fig, ax = plt.subplots(figsize=(12, 9))\n",
    "plt.rcParams[\"font.size\"] = \"20\"\n",
    "colors = sns.color_palette(\"gist_rainbow\")\n",
    "plt.pie(vader_counts.values,labels = vader_counts.index, explode = (0.1, 0.1), autopct='%1.1f%%', shadow=False, colors = colors)\n",
    "leg = ax.legend(prop={\"size\":20})\n",
    "\n"
   ]
  },
  {
   "cell_type": "code",
   "execution_count": null,
   "metadata": {
    "colab": {
     "background_save": true
    },
    "id": "1CmmPl71sg74",
    "outputId": "2cc73448-9b30-4795-fb89-804737ad1202"
   },
   "outputs": [],
   "source": [
    "#To add a new column category next to the age group. \n",
    "category = pd.cut(dtf['vader_sentiment_score'],bins=[-0.9,-0.5,0.1,0.5,0.9,1.0],labels=[\"not very satisfied\", \"not satisfied\",\"neutral\", \"satisfied\",\"very well satisfied\"])\n",
    "dtf.insert(11, 'polarity_grade', category)\n",
    "dtf.sample(5)"
   ]
  },
  {
   "cell_type": "code",
   "execution_count": null,
   "metadata": {
    "colab": {
     "background_save": true
    },
    "id": "cFZ8lmK0sg75",
    "outputId": "4941797f-aff2-4757-ad59-85174da1e223"
   },
   "outputs": [],
   "source": [
    "category_total = dtf.groupby('company')['polarity_grade'].value_counts(normalize=False).unstack()\n",
    "category_total"
   ]
  },
  {
   "cell_type": "markdown",
   "metadata": {
    "id": "LwU9qPc5sg76"
   },
   "source": [
    "### Exploratory Data Analysis"
   ]
  },
  {
   "cell_type": "markdown",
   "metadata": {
    "id": "soxKbmDWsg76"
   },
   "source": [
    "To find the correlation between the variables"
   ]
  },
  {
   "cell_type": "code",
   "execution_count": null,
   "metadata": {
    "colab": {
     "background_save": true
    },
    "id": "KnGsuVmZsg77",
    "outputId": "f7b6f081-3d86-499b-cebb-c03e0dc84801"
   },
   "outputs": [],
   "source": [
    "corr = dtf.corr()# plot the heatmap\n",
    "\n",
    "sns.set(rc={'axes.facecolor':'white'})\n",
    "\n",
    "sns.set(font_scale = 1.5)\n",
    "\n",
    "sns_plot =  sns.heatmap(corr, xticklabels=corr.columns, yticklabels=corr.columns, annot=True, cmap =\"gist_rainbow\")\n"
   ]
  },
  {
   "cell_type": "markdown",
   "metadata": {
    "id": "Dq-OlJLgsg79"
   },
   "source": [
    "To find the company that has the highest overall rating distribution"
   ]
  },
  {
   "cell_type": "code",
   "execution_count": null,
   "metadata": {
    "colab": {
     "background_save": true
    },
    "id": "W-wHfM6msg7-",
    "outputId": "9c05a87d-df67-4df6-d643-ad754901be7e"
   },
   "outputs": [],
   "source": [
    "plt.figure(1 , figsize = (18 , 15))\n",
    "sns.set(rc={'axes.facecolor':'white'})\n",
    "sns.set(font_scale = 2.5)\n",
    "n = 0 \n",
    "for company in dtf['company'].unique():\n",
    "    n += 1\n",
    "    sns.set_style(\"whitegrid\")\n",
    "    plt.subplot(3 , 2 , n )\n",
    "    plt.subplots_adjust(hspace = 0.9 , wspace = 0.9)\n",
    "    plt1 = sns.violinplot(x = 'overall-ratings' , data = dtf.where(dtf['company'] == company), color = \"lawngreen\")\n",
    "    plt.xlabel('')\n",
    "    plt.ylabel(company)\n",
    "plt.show()\n"
   ]
  },
  {
   "cell_type": "markdown",
   "metadata": {
    "id": "2X7cFzYIsg7_"
   },
   "source": [
    "To find the average rating points of the job features"
   ]
  },
  {
   "cell_type": "code",
   "execution_count": null,
   "metadata": {
    "colab": {
     "base_uri": "https://localhost:8080/",
     "height": 663
    },
    "id": "xNIiupHJsg7_",
    "outputId": "cf7acc7d-afe1-4aef-8a21-ab036fbd36cc"
   },
   "outputs": [],
   "source": [
    "features = ['work-balance-stars' , 'culture-values-stars' , 'carrer-opportunities-stars',\n",
    "                     'comp-benefit-stars','senior-mangemnet-stars']\n",
    "index_companies = ['google' , 'amazon' , 'facebook' , 'netflix' , 'apple' , 'microsoft']\n",
    "\n",
    "mean_rating_dtf = pd.DataFrame(index = index_companies)\n",
    "\n",
    "for feature in features:\n",
    "    f = []\n",
    "    for comp in index_companies:\n",
    "      #except ValueError:\n",
    "        f.append(np.mean(dtf[feature][dtf['company'] == comp]))\n",
    "    mean_rating_dtf[feature] = f\n",
    "del f\n",
    "\n",
    "plt.figure(1 , figsize = (20 , 10))\n",
    "sns.set(rc={'axes.facecolor':'white'})\n",
    "sns.set(font_scale = 2)\n",
    "colors = sns.color_palette(\"gist_rainbow\")\n",
    "\n",
    "sns.set_style(\"whitegrid\")\n",
    "for n , c  in zip(range(6) , colors):\n",
    "    plt.scatter(x = np.arange(5) , y = mean_rating_dtf.iloc[n , :].values , s = 700 , c = c  , label = mean_rating_dtf.index[n])\n",
    "    #plt.scatter(x = np.arange(5) , y = mean_rating_dtf.iloc[n , :].values , s = 700 , c = c  , label = features)\n",
    "    plt2 = plt.plot(np.arange(5) , mean_rating_dtf.iloc[n , :].values , '-' , color = c , \n",
    "             alpha = 0)\n",
    "    plt.xticks(np.arange(5) , features)\n",
    "plt.legend(bbox_to_anchor=(1.00, 1), loc=2, borderaxespad=0.)    \n",
    "plt.show() \n"
   ]
  },
  {
   "cell_type": "markdown",
   "metadata": {
    "id": "E3fAP4RIsg8A"
   },
   "source": [
    "To find the distribution of polarity scores for the combined reviews "
   ]
  },
  {
   "cell_type": "code",
   "execution_count": null,
   "metadata": {
    "colab": {
     "background_save": true
    },
    "id": "DOUsVzgMsg8A",
    "outputId": "bfe3b738-40c8-424c-956a-e1c5ed8ba98e"
   },
   "outputs": [],
   "source": [
    "plt.figure(1 , figsize = (17 , 7))\n",
    "sns.set(rc={'axes.facecolor':'white'})\n",
    "plt.rc('xtick', labelsize=20)\n",
    "plt.rc('ytick', labelsize=20)\n",
    "plt3 = plt.hist(dtf['vader_sentiment_score'] , bins = 50)\n",
    "plt.title('Polarity of Combined Reviews', fontsize = 25)\n"
   ]
  },
  {
   "cell_type": "code",
   "execution_count": null,
   "metadata": {
    "colab": {
     "background_save": true
    },
    "id": "_Pe1L6jEPwxF",
    "outputId": "ddc852a6-3510-4137-a1d1-6951620201d2"
   },
   "outputs": [],
   "source": [
    "sns.set(rc={'axes.facecolor':'white'})\n",
    "plt.rc('xtick', labelsize=18)\n",
    "plt.rc('ytick', labelsize=18)\n",
    "colors = sns.color_palette(\"gist_rainbow\")\n",
    "plt.figure(2 , figsize = (18, 10))\n",
    "n = 0 \n",
    "for comp , c in zip(index_companies , colors):\n",
    "    n += 1\n",
    "    plt.subplot(2 , 3 , n)\n",
    "    plt.subplots_adjust(hspace = 0.5 , wspace = 0.4)\n",
    "    plt4 = plt.hist(dtf['vader_sentiment_score'][dtf['company'] == comp], bins = 50, color = c )\n",
    "    plt.title(comp, fontsize = 25)\n",
    "plt.show()\n",
    "\n"
   ]
  },
  {
   "cell_type": "markdown",
   "metadata": {
    "id": "QozklXJksg8B"
   },
   "source": [
    "To find the count of companies that have reviewed the most in Glassdoor"
   ]
  },
  {
   "cell_type": "code",
   "execution_count": null,
   "metadata": {
    "colab": {
     "background_save": true
    },
    "id": "_rhLhG1Esg8B",
    "outputId": "9d8eb7a5-20c5-4c1c-d931-a4b03705f147"
   },
   "outputs": [],
   "source": [
    "plt.style.use('fivethirtyeight')\n",
    "sns.set(rc={'axes.facecolor':'white'})\n",
    "plt.figure(1 , figsize = (18 , 8))\n",
    "colors = sns.color_palette(\"gist_rainbow\")\n",
    "sns.set(font_scale = 2)\n",
    "sns.set_style(\"whitegrid\")\n",
    "ax = sns.countplot(y = 'company' , data = dtf  , \n",
    "              order = dtf['company'].value_counts().index)\n",
    "initialx=0\n",
    "for p in ax.patches:\n",
    "  ax.text(p.get_width(),initialx+p.get_height()/8,'{:1.0f}'.format(p.get_width()))\n",
    "  initialx+=1\n",
    "\n",
    "plt.show()\n"
   ]
  },
  {
   "cell_type": "markdown",
   "metadata": {
    "id": "HHluemVtsg8C"
   },
   "source": [
    "To find which employee and job profile has reviewed the most in Glassdoor"
   ]
  },
  {
   "cell_type": "code",
   "execution_count": null,
   "metadata": {
    "colab": {
     "background_save": true
    },
    "id": "_qcHIF-rsg8C",
    "outputId": "9af2a80d-608f-400f-b615-40f113a23120"
   },
   "outputs": [],
   "source": [
    "from collections import Counter\n",
    "\n",
    "common_job_titles = []\n",
    "c = Counter(dtf['job-title']).most_common()[:11]\n",
    "for n in range(11):\n",
    "    common_job_titles.append(c[n][0])\n",
    "    \n",
    "plt.figure(1 , figsize = (25,20))\n",
    "sns.set(rc={'axes.facecolor':'white'})\n",
    "sns.set(font_scale = 5)\n",
    "sns.set_style(\"whitegrid\")\n",
    "ax = sns.countplot(y = 'job-title' , data = dtf[dtf['job-title'].isin(common_job_titles)] ,\n",
    "              palette = 'gist_rainbow' , \n",
    "              order = dtf[dtf['job-title'].isin(common_job_titles)]['job-title'].value_counts().index)\n",
    "initialx=0\n",
    "\n",
    "for p in ax.patches:\n",
    "  ax.text(p.get_width(),initialx+p.get_height()/8,'{:1.0f}'.format(p.get_width()))\n",
    "  initialx+=1\n",
    "plt.show()\n"
   ]
  },
  {
   "cell_type": "markdown",
   "metadata": {
    "id": "Azhz-KjFsg8D"
   },
   "source": [
    "Word cloud of overall reviews"
   ]
  },
  {
   "cell_type": "code",
   "execution_count": null,
   "metadata": {
    "colab": {
     "background_save": true
    },
    "id": "_vGStT7Dsg8D",
    "outputId": "5eda749f-e25e-46ac-abc0-2b4606a9c6a4"
   },
   "outputs": [],
   "source": [
    "wc = WordCloud(stopwords = text.ENGLISH_STOP_WORDS, \n",
    "               background_color = \"white\" , \n",
    "               colormap = \"Dark2\" ,\n",
    "               max_font_size = 150 , \n",
    "               random_state = 42)\n",
    "corpus = ''\n",
    "for corp in df_summary['summary_corpus'].values:\n",
    "    corpus = corpus+' '+corp\n",
    "wc.generate(corpus)\n",
    "sns.set(rc={'axes.facecolor':'white'})\n",
    "plt.figure(1 , figsize = (5,5))\n",
    "plt5 = plt.imshow(wc , interpolation=\"bilinear\")\n",
    "plt.axis(\"off\")\n",
    "plt.show()\n"
   ]
  },
  {
   "cell_type": "markdown",
   "metadata": {
    "id": "9qRRJKYAsg8E"
   },
   "source": [
    "Word cloud of each company"
   ]
  },
  {
   "cell_type": "code",
   "execution_count": null,
   "metadata": {
    "colab": {
     "background_save": true
    },
    "id": "LLzbQplIsg8E",
    "outputId": "da20444f-7738-4dd2-f045-5a262e1332a2"
   },
   "outputs": [],
   "source": [
    "wc = WordCloud(stopwords = text.ENGLISH_STOP_WORDS.union(['apple' , 'amazon','netflix' , 'google', 'facebook']), \n",
    "               background_color = \"white\" , \n",
    "               colormap = \"Dark2\" ,\n",
    "               max_font_size = 150 , \n",
    "               random_state = 42)\n",
    "\n",
    "\n",
    "plt.figure(1 , figsize = (5,5))\n",
    "sns.set(rc={'axes.facecolor':'white'})\n",
    "for corpus , i in zip(df_summary['summary_corpus'].values,range(6)):\n",
    "    wc.generate(corpus)\n",
    "    plt.subplot(3 , 2 , i + 1)\n",
    "    plt6 = plt.imshow(wc , interpolation=\"bilinear\")\n",
    "    plt.axis(\"off\")\n",
    "    plt.title(summary_corpus.index[i])\n",
    "plt.show()\n"
   ]
  },
  {
   "cell_type": "markdown",
   "metadata": {
    "id": "pWkT3XM_sg8F"
   },
   "source": [
    "### Findings and Analysis - Machine Learning Algorithms \n",
    "\n",
    "To find the accuracy of congenial between the text reviews and numeric ratings given by individual employees."
   ]
  },
  {
   "cell_type": "code",
   "execution_count": null,
   "metadata": {
    "colab": {
     "background_save": true
    },
    "id": "V8yzQNPGFJyo",
    "outputId": "3f415c92-61d6-48af-8e19-2ef52b2f9291"
   },
   "outputs": [],
   "source": [
    "dtf.columns"
   ]
  },
  {
   "cell_type": "code",
   "execution_count": null,
   "metadata": {
    "colab": {
     "background_save": true
    },
    "id": "1nUt3VGfsg8F"
   },
   "outputs": [],
   "source": [
    "X=dtf[['overall-ratings','work-balance-stars','culture-values-stars','carrer-opportunities-stars','comp-benefit-stars','senior-mangemnet-stars']]\n",
    "y=dtf['vader_sentiment_score']"
   ]
  },
  {
   "cell_type": "code",
   "execution_count": null,
   "metadata": {
    "colab": {
     "background_save": true
    },
    "id": "EXTm85hAsg8G"
   },
   "outputs": [],
   "source": [
    "y = y.astype(np.int)"
   ]
  },
  {
   "cell_type": "code",
   "execution_count": null,
   "metadata": {
    "colab": {
     "background_save": true
    },
    "id": "pM47tlMjsg8G"
   },
   "outputs": [],
   "source": [
    "\n",
    "from sklearn.model_selection import train_test_split\n",
    "#from sklearn.model_selection import cross_validate\n",
    "# from sklearn.multioutput import MultiOutputClassifier\n",
    "\n",
    "X_train, X_test, y_train, y_test = train_test_split(\n",
    "    X, y, test_size=0.20, random_state=40)"
   ]
  },
  {
   "cell_type": "code",
   "execution_count": null,
   "metadata": {
    "colab": {
     "background_save": true
    },
    "id": "Ldih628osg8I",
    "outputId": "db88a992-9b4a-4182-cb6a-88b26de33eb9"
   },
   "outputs": [],
   "source": [
    "print('X_train dimension= ', X_train.shape)\n",
    "print('X_test dimension= ', X_test.shape)\n",
    "print('y_train dimension= ', y_train.shape)\n",
    "print('y_train dimension= ', y_test.shape)"
   ]
  },
  {
   "cell_type": "markdown",
   "metadata": {
    "id": "6bxv1CKesg8J"
   },
   "source": [
    "Random Forest"
   ]
  },
  {
   "cell_type": "code",
   "execution_count": null,
   "metadata": {
    "colab": {
     "background_save": true
    },
    "id": "3Nr_sW57sg8J",
    "outputId": "5fa6ccb9-de56-4e5d-9a6c-e2f121aba29c"
   },
   "outputs": [],
   "source": [
    "# importing random forest classifier from assemble module\n",
    "from sklearn.ensemble import RandomForestClassifier\n",
    "# creating a RF classifier\n",
    "RF = RandomForestClassifier(n_estimators = 100) \n",
    "# Training the model on the training dataset\n",
    "# fit function is used to train the model using the training sets as parameters\n",
    "RF.fit(X_train, y_train)\n",
    " \n",
    "# performing predictions on the test dataset\n",
    "RF.predict(X_test)\n",
    "\n",
    "RF_result = RF.score(X_test, y_test)\n",
    " \n",
    "print(\"ACCURACY OF THE MODEL: \", RF_result)"
   ]
  },
  {
   "cell_type": "code",
   "execution_count": null,
   "metadata": {
    "colab": {
     "background_save": true
    },
    "id": "ynmAUMZpE2yc",
    "outputId": "5a10cd56-f0f2-4da5-d586-939441c96c4d"
   },
   "outputs": [],
   "source": [
    "# decision tree for feature importance on a regression problem\n",
    "from sklearn.datasets import make_regression\n",
    "from sklearn.tree import DecisionTreeRegressor\n",
    "from matplotlib import pyplot\n",
    "# define dataset\n",
    "# X, y = make_regression(n_samples=1000, n_features=10, n_informative=5, random_state=1)\n",
    "# # define the model\n",
    "# model = DecisionTreeRegressor()\n",
    "# # fit the model\n",
    "# model.fit(X, y)\n",
    "# get importance\n",
    "importance = RF.feature_importances_\n",
    "# summarize feature importance\n",
    "for i,v in enumerate(importance):\n",
    "\tprint('Feature: %0d, Score: %.5f' % (i,v))\n",
    "# plot feature importance\n",
    "\n",
    "ft_imp=pd.DataFrame([x for x in range(len(importance))])\n",
    "\n",
    "ft_imp['feature_names']=['overall-ratings','work-balance-stars','culture-values-stars','carrer-opportunities-stars','comp-benefit-stars','senior-mangemnet-stars']\n",
    "ft_imp['values']=(RF.feature_importances_)\n",
    "ft_imp\n",
    "\n",
    "\n",
    "# plt.bar(ft_imp['feature_names'],ft_imp['values'])\n",
    "# plt.show()\n",
    "# X.columns"
   ]
  },
  {
   "cell_type": "code",
   "execution_count": null,
   "metadata": {
    "colab": {
     "background_save": true
    },
    "id": "C3ppLm6StNa1",
    "outputId": "d23a0094-c123-4eab-85ce-0156c885e1c7"
   },
   "outputs": [],
   "source": [
    "\n",
    "plt.figure(1 , figsize = (20 , 15))\n",
    "sns.set(rc={'axes.facecolor':'white'})\n",
    "sns.set(font_scale = 1.5)\n",
    "sns.set_style(\"whitegrid\")\n",
    "\n",
    "ax = sns.barplot(x=\"feature_names\", y=\"values\", data=ft_imp)\n",
    "\n"
   ]
  },
  {
   "cell_type": "code",
   "execution_count": null,
   "metadata": {
    "colab": {
     "background_save": true
    },
    "id": "0OWt9UtaTlKX"
   },
   "outputs": [],
   "source": [
    "# # Barplot: Add bars\n",
    "# plt.bar(range(X.shape[1])\n",
    "# # Add feature names as x-axis labels\n",
    "# plt.xticks(range(X.shape[1]), ft_imp['feature_names'], rotation=20, fontsize = 8)\n",
    "# # Create plot title\n",
    "# plt.title(\"Feature Importance\")\n",
    "# # Show plot\n",
    "# plt.show()"
   ]
  },
  {
   "cell_type": "code",
   "execution_count": null,
   "metadata": {
    "colab": {
     "background_save": true
    },
    "id": "6mmlJGmpApfJ"
   },
   "outputs": [],
   "source": [
    "# feat_importances = pd.DataFrame(RF.feature_importances_, index= ft_imp['feature_names'])\n",
    "# feat_importances.sort_values(by= 'feature_names', ascending=False, inplace=True)\n",
    "# feat_importances.plot(kind='bar', figsize=(8,6))"
   ]
  },
  {
   "cell_type": "markdown",
   "metadata": {
    "id": "Oqp8PQQDsg8K"
   },
   "source": [
    "AdaBoost Classifier"
   ]
  },
  {
   "cell_type": "code",
   "execution_count": null,
   "metadata": {
    "colab": {
     "background_save": true
    },
    "id": "o7hYKWa8sg8K",
    "outputId": "c4fc10bb-7a7d-41b2-b0dc-8cf24274fbf7"
   },
   "outputs": [],
   "source": [
    "from sklearn.ensemble import AdaBoostClassifier\n",
    "from sklearn.datasets import make_classification\n",
    "\n",
    "ABC = AdaBoostClassifier(n_estimators=100, random_state=0)\n",
    "ABC.fit(X_train, y_train)\n",
    "\n",
    "ABC.predict(X_test)\n",
    "\n",
    "ABC_result = ABC.score(X_test, y_test)\n",
    "\n",
    "print(\"ACCURACY OF THE MODEL: \", ABC_result)"
   ]
  },
  {
   "cell_type": "markdown",
   "metadata": {
    "id": "g_XTWWk3sg8L"
   },
   "source": [
    "Gaussian Naive Bayes"
   ]
  },
  {
   "cell_type": "code",
   "execution_count": null,
   "metadata": {
    "colab": {
     "background_save": true
    },
    "id": "t0OqT1wKsg8L",
    "outputId": "2c99e0b7-7bb3-4654-e115-922a453b9183"
   },
   "outputs": [],
   "source": [
    "from sklearn.naive_bayes import GaussianNB\n",
    "from sklearn.datasets import make_classification\n",
    "GNB = GaussianNB()\n",
    "GNB.fit(X_train, y_train)\n",
    "\n",
    "GNB.predict(X_test)\n",
    "\n",
    "GNB_result = GNB.score(X_test, y_test)\n",
    "\n",
    "print(\"ACCURACY OF THE MODEL: \", GNB_result)"
   ]
  },
  {
   "cell_type": "markdown",
   "metadata": {
    "id": "Hs2lpZH7sg8M"
   },
   "source": [
    "Support Vector Machine"
   ]
  },
  {
   "cell_type": "code",
   "execution_count": null,
   "metadata": {
    "colab": {
     "background_save": true
    },
    "id": "1UBroQ7wsg8N",
    "outputId": "2dee8eca-682e-4316-84e0-e3b7ef645d9b"
   },
   "outputs": [],
   "source": [
    "from sklearn.pipeline import make_pipeline\n",
    "from sklearn.preprocessing import StandardScaler\n",
    "\n",
    "from sklearn.svm import SVC\n",
    "SVM = make_pipeline(StandardScaler(), SVC(gamma='auto'))\n",
    "SVM.fit(X_train, y_train)\n",
    "\n",
    "SVM.predict(X_test)\n",
    "\n",
    "SVM_result = SVM.score(X_test, y_test)\n",
    "\n",
    "print(\"ACCURACY OF THE MODEL: \", SVM_result)\n"
   ]
  },
  {
   "cell_type": "markdown",
   "metadata": {
    "id": "GsOsOlUUsg8P"
   },
   "source": [
    "Multinomial Logistic Regression "
   ]
  },
  {
   "cell_type": "code",
   "execution_count": null,
   "metadata": {
    "colab": {
     "background_save": true
    },
    "id": "dDJxeFLvsg8Q",
    "outputId": "1a004140-e5b1-4d76-f9b9-0591c3a135cf"
   },
   "outputs": [],
   "source": [
    "dt =pd.read_csv(\"/content/drive/MyDrive/grade_final.csv\",encoding='latin-1',index_col=0)\n",
    "dt.info()"
   ]
  },
  {
   "cell_type": "code",
   "execution_count": null,
   "metadata": {
    "colab": {
     "background_save": true
    },
    "id": "Vne58BrLsg8Q"
   },
   "outputs": [],
   "source": [
    "# Import label encoder\n",
    "from sklearn import preprocessing\n",
    " \n",
    "# label_encoder object knows how to understand word labels.\n",
    "label_encoder = preprocessing.LabelEncoder()\n",
    " \n",
    "# Encode labels in column 'species'.\n",
    "dt['polarity_grade']= label_encoder.fit_transform(dt['polarity_grade'])"
   ]
  },
  {
   "cell_type": "code",
   "execution_count": null,
   "metadata": {
    "colab": {
     "background_save": true
    },
    "id": "3N4sXNIXsg8R"
   },
   "outputs": [],
   "source": [
    "from sklearn.model_selection import train_test_split\n",
    "X = dt[['overall-ratings','work-balance-stars','culture-values-stars','carrer-opportunities-stars','comp-benefit-stars','senior-mangemnet-stars','vader_sentiment_score']]\n",
    "Y = dt['polarity_grade']\n",
    "\n",
    "X_train, X_test, Y_train, Y_test = train_test_split(X, Y, test_size=0.20)"
   ]
  },
  {
   "cell_type": "code",
   "execution_count": null,
   "metadata": {
    "colab": {
     "background_save": true
    },
    "id": "uvrdxmMzsg8T",
    "outputId": "5fffff87-122f-49c5-9890-f1ae5437978a"
   },
   "outputs": [],
   "source": [
    "from sklearn.linear_model import LogisticRegression\n",
    "\n",
    "#creating the multinomial logistic regression model\n",
    "LR = LogisticRegression(multi_class='multinomial',solver='lbfgs')\n",
    "LR.fit(X_train, Y_train)\n",
    "\n",
    "\n",
    "#evaluating the score of the model\n",
    "LR_result = LR.score( X_test, Y_test)\n",
    "\n",
    "\n",
    "print(\"ACCURACY OF THE MODEL: \", LR_result)"
   ]
  },
  {
   "cell_type": "code",
   "execution_count": null,
   "metadata": {
    "colab": {
     "base_uri": "https://localhost:8080/"
    },
    "id": "f5Z_dU4qeA6e",
    "outputId": "254ad527-214f-437c-931f-b175766a3e5f"
   },
   "outputs": [],
   "source": [
    "#ANOVA\n",
    "import statsmodels.api as sm\n",
    "from statsmodels.formula.api import ols\n",
    "\n",
    "model = ols('Y~X', data = dt).fit() #Oridnary least square method\n",
    "result_anova = sm.stats.anova_lm(model) # ANOVA Test\n",
    "print(result_anova)\n"
   ]
  },
  {
   "cell_type": "markdown",
   "metadata": {
    "id": "28ZV_6s9sg8T"
   },
   "source": [
    "To find the positive and negative polarities of current and former employees individually"
   ]
  },
  {
   "cell_type": "code",
   "execution_count": null,
   "metadata": {
    "colab": {
     "background_save": true
    },
    "id": "UtoNUo8dsg8U",
    "outputId": "1a08dba4-a8d6-4482-dc59-4ff18c74ca81"
   },
   "outputs": [],
   "source": [
    "former = dtf[dtf['job-title'].str.contains('Former Employee')]\n",
    "former_counts = former['vader_Analysis'].value_counts()\n",
    "former_counts"
   ]
  },
  {
   "cell_type": "code",
   "execution_count": null,
   "metadata": {
    "colab": {
     "background_save": true
    },
    "id": "R0PTmzkbsg8U",
    "outputId": "c34b93d7-5f7f-458f-dd35-2efdf6c12981"
   },
   "outputs": [],
   "source": [
    "current = dtf[dtf['job-title'].str.contains('Current Employee')]\n",
    "current_counts = current['vader_Analysis'].value_counts()\n",
    "current_counts"
   ]
  },
  {
   "cell_type": "markdown",
   "metadata": {
    "id": "HCJ5lqDVsg8V"
   },
   "source": [
    "### MANOVA\n",
    "To find the significant difference in the reviews among the current and former employees\n"
   ]
  },
  {
   "cell_type": "code",
   "execution_count": null,
   "metadata": {
    "colab": {
     "background_save": true
    },
    "id": "8jIL0a3wsg8V"
   },
   "outputs": [],
   "source": [
    "#! pip install statsmodels\n",
    "import statsmodels \n",
    "from statsmodels.multivariate.manova import MANOVA"
   ]
  },
  {
   "cell_type": "code",
   "execution_count": null,
   "metadata": {
    "colab": {
     "background_save": true
    },
    "id": "i-BwNGsueau3"
   },
   "outputs": [],
   "source": [
    "# import statsmodels.api as sm \n",
    "# from statsmodels.formula.api import ols  "
   ]
  },
  {
   "cell_type": "code",
   "execution_count": null,
   "metadata": {
    "colab": {
     "background_save": true
    },
    "id": "6XXHjoDqsg8W"
   },
   "outputs": [],
   "source": [
    "x = dt[['overall-ratings','work-balance-stars','culture-values-stars','carrer-opportunities-stars','comp-benefit-stars','senior-mangemnet-stars','vader_sentiment_score']]\n",
    "y = dt['job-title']"
   ]
  },
  {
   "cell_type": "code",
   "execution_count": null,
   "metadata": {
    "colab": {
     "background_save": true
    },
    "id": "dUWnEQWRsg8W",
    "outputId": "01a4a98e-9572-497f-c0d9-5f3671f6d7a6"
   },
   "outputs": [],
   "source": [
    "\n",
    "gog_dt = dt.apply(lambda row: row[dt['company'].isin(['google'])])\n",
    "\n",
    "jx = gog_dt[['overall-ratings','work-balance-stars','culture-values-stars', 'carrer-opportunities-stars','comp-benefit-stars','senior-mangemnet-stars','vader_sentiment_score' ]]\n",
    "jy = gog_dt['job-title']\n",
    "\n",
    "# fit manova\n",
    "manova_result = MANOVA.from_formula('jy ~jx', gog_dt)\n",
    "print(manova_result.mv_test())"
   ]
  },
  {
   "cell_type": "code",
   "execution_count": null,
   "metadata": {
    "colab": {
     "background_save": true
    },
    "id": "wANvZdJwsg8X",
    "outputId": "d0c3b89a-dea2-4820-9b56-a4021bcc8544"
   },
   "outputs": [],
   "source": [
    "fb_dt = dt.apply(lambda row: row[dt['company'].isin(['facebook'])])\n",
    "\n",
    "jx = fb_dt[['overall-ratings','work-balance-stars','culture-values-stars', 'carrer-opportunities-stars','comp-benefit-stars','senior-mangemnet-stars','vader_sentiment_score' ]]\n",
    "jy = fb_dt['job-title']\n",
    "\n",
    "# fit manova\n",
    "manova_result = MANOVA.from_formula('jy ~jx', fb_dt)\n",
    "print(manova_result.mv_test())"
   ]
  },
  {
   "cell_type": "code",
   "execution_count": null,
   "metadata": {
    "colab": {
     "background_save": true
    },
    "id": "seym2mjHsg8X",
    "outputId": "63f494d7-fa3b-4f87-8f73-0a2b78249a1f"
   },
   "outputs": [],
   "source": [
    "apl_dt = dt.apply(lambda row: row[dt['company'].isin(['apple'])])\n",
    "\n",
    "jx = apl_dt[['overall-ratings','work-balance-stars','culture-values-stars', 'carrer-opportunities-stars','comp-benefit-stars','senior-mangemnet-stars','vader_sentiment_score' ]]\n",
    "jy = apl_dt['job-title']\n",
    "\n",
    "# fit manova\n",
    "manova_result = MANOVA.from_formula('jy ~jx', apl_dt)\n",
    "print(manova_result.mv_test())"
   ]
  },
  {
   "cell_type": "code",
   "execution_count": null,
   "metadata": {
    "colab": {
     "background_save": true
    },
    "id": "tVLlkl4vsg8Y",
    "outputId": "c094d53b-0d83-4222-b99d-53f20a73c879"
   },
   "outputs": [],
   "source": [
    "net_dt = dt.apply(lambda row: row[dt['company'].isin(['netflix'])])\n",
    "\n",
    "jx = net_dt[['overall-ratings','work-balance-stars','culture-values-stars', 'carrer-opportunities-stars','comp-benefit-stars','senior-mangemnet-stars','vader_sentiment_score' ]]\n",
    "jy = net_dt['job-title']\n",
    "\n",
    "# fit manova\n",
    "manova_result = MANOVA.from_formula('jy ~jx', net_dt)\n",
    "print(manova_result.mv_test())"
   ]
  },
  {
   "cell_type": "code",
   "execution_count": null,
   "metadata": {
    "colab": {
     "background_save": true
    },
    "id": "osRcvwCmsg8Y",
    "outputId": "79b1ded0-d8b5-40b0-db41-39bcee931220"
   },
   "outputs": [],
   "source": [
    "mic_dt = dt.apply(lambda row: row[dt['company'].isin(['microsoft'])])\n",
    "\n",
    "jx = mic_dt[['overall-ratings','work-balance-stars','culture-values-stars', 'carrer-opportunities-stars','comp-benefit-stars','senior-mangemnet-stars','vader_sentiment_score' ]]\n",
    "jy = mic_dt['job-title']\n",
    "\n",
    "# fit manova\n",
    "manova_result = MANOVA.from_formula('jy ~jx', mic_dt)\n",
    "print(manova_result.mv_test())"
   ]
  },
  {
   "cell_type": "code",
   "execution_count": null,
   "metadata": {
    "colab": {
     "background_save": true
    },
    "id": "nGmonMt16klU"
   },
   "outputs": [],
   "source": []
  }
 ],
 "metadata": {
  "colab": {
   "collapsed_sections": [
    "HJCG-pNosg7g",
    "JOIMmPxAsg7x",
    "m9xC_K5Hsg7z"
   ],
   "name": "Final_Employee_Retention_code.ipynb",
   "provenance": []
  },
  "kernelspec": {
   "display_name": "Python 3",
   "language": "python",
   "name": "python3"
  },
  "language_info": {
   "codemirror_mode": {
    "name": "ipython",
    "version": 3
   },
   "file_extension": ".py",
   "mimetype": "text/x-python",
   "name": "python",
   "nbconvert_exporter": "python",
   "pygments_lexer": "ipython3",
   "version": "3.7.6"
  }
 },
 "nbformat": 4,
 "nbformat_minor": 1
}
